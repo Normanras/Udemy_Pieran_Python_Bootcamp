{
 "metadata": {
  "language_info": {
   "codemirror_mode": {
    "name": "ipython",
    "version": 3
   },
   "file_extension": ".py",
   "mimetype": "text/x-python",
   "name": "python",
   "nbconvert_exporter": "python",
   "pygments_lexer": "ipython3",
   "version": "3.8.5-final"
  },
  "orig_nbformat": 2,
  "kernelspec": {
   "name": "python3",
   "display_name": "Python 3",
   "language": "python"
  }
 },
 "nbformat": 4,
 "nbformat_minor": 2,
 "cells": [
  {
   "cell_type": "code",
   "execution_count": 1,
   "metadata": {},
   "outputs": [],
   "source": [
    "import requests\n",
    "import bs4"
   ]
  },
  {
   "cell_type": "code",
   "execution_count": 2,
   "metadata": {},
   "outputs": [],
   "source": [
    "result = requests.get('http://www.example.com')"
   ]
  },
  {
   "cell_type": "code",
   "execution_count": 3,
   "metadata": {},
   "outputs": [
    {
     "output_type": "execute_result",
     "data": {
      "text/plain": [
       "requests.models.Response"
      ]
     },
     "metadata": {},
     "execution_count": 3
    }
   ],
   "source": [
    "type(result)"
   ]
  },
  {
   "cell_type": "code",
   "execution_count": 4,
   "metadata": {},
   "outputs": [
    {
     "output_type": "execute_result",
     "data": {
      "text/plain": [
       "'<!doctype html>\\n<html>\\n<head>\\n    <title>Example Domain</title>\\n\\n    <meta charset=\"utf-8\" />\\n    <meta http-equiv=\"Content-type\" content=\"text/html; charset=utf-8\" />\\n    <meta name=\"viewport\" content=\"width=device-width, initial-scale=1\" />\\n    <style type=\"text/css\">\\n    body {\\n        background-color: #f0f0f2;\\n        margin: 0;\\n        padding: 0;\\n        font-family: -apple-system, system-ui, BlinkMacSystemFont, \"Segoe UI\", \"Open Sans\", \"Helvetica Neue\", Helvetica, Arial, sans-serif;\\n        \\n    }\\n    div {\\n        width: 600px;\\n        margin: 5em auto;\\n        padding: 2em;\\n        background-color: #fdfdff;\\n        border-radius: 0.5em;\\n        box-shadow: 2px 3px 7px 2px rgba(0,0,0,0.02);\\n    }\\n    a:link, a:visited {\\n        color: #38488f;\\n        text-decoration: none;\\n    }\\n    @media (max-width: 700px) {\\n        div {\\n            margin: 0 auto;\\n            width: auto;\\n        }\\n    }\\n    </style>    \\n</head>\\n\\n<body>\\n<div>\\n    <h1>Example Domain</h1>\\n    <p>This domain is for use in illustrative examples in documents. You may use this\\n    domain in literature without prior coordination or asking for permission.</p>\\n    <p><a href=\"https://www.iana.org/domains/example\">More information...</a></p>\\n</div>\\n</body>\\n</html>\\n'"
      ]
     },
     "metadata": {},
     "execution_count": 4
    }
   ],
   "source": [
    "result.text"
   ]
  },
  {
   "cell_type": "code",
   "execution_count": 5,
   "metadata": {},
   "outputs": [],
   "source": [
    "soup = bs4.BeautifulSoup(result.text,\"lxml\")"
   ]
  },
  {
   "cell_type": "code",
   "execution_count": 6,
   "metadata": {},
   "outputs": [
    {
     "output_type": "execute_result",
     "data": {
      "text/plain": [
       "<!DOCTYPE html>\n",
       "<html>\n",
       "<head>\n",
       "<title>Example Domain</title>\n",
       "<meta charset=\"utf-8\"/>\n",
       "<meta content=\"text/html; charset=utf-8\" http-equiv=\"Content-type\"/>\n",
       "<meta content=\"width=device-width, initial-scale=1\" name=\"viewport\"/>\n",
       "<style type=\"text/css\">\n",
       "    body {\n",
       "        background-color: #f0f0f2;\n",
       "        margin: 0;\n",
       "        padding: 0;\n",
       "        font-family: -apple-system, system-ui, BlinkMacSystemFont, \"Segoe UI\", \"Open Sans\", \"Helvetica Neue\", Helvetica, Arial, sans-serif;\n",
       "        \n",
       "    }\n",
       "    div {\n",
       "        width: 600px;\n",
       "        margin: 5em auto;\n",
       "        padding: 2em;\n",
       "        background-color: #fdfdff;\n",
       "        border-radius: 0.5em;\n",
       "        box-shadow: 2px 3px 7px 2px rgba(0,0,0,0.02);\n",
       "    }\n",
       "    a:link, a:visited {\n",
       "        color: #38488f;\n",
       "        text-decoration: none;\n",
       "    }\n",
       "    @media (max-width: 700px) {\n",
       "        div {\n",
       "            margin: 0 auto;\n",
       "            width: auto;\n",
       "        }\n",
       "    }\n",
       "    </style>\n",
       "</head>\n",
       "<body>\n",
       "<div>\n",
       "<h1>Example Domain</h1>\n",
       "<p>This domain is for use in illustrative examples in documents. You may use this\n",
       "    domain in literature without prior coordination or asking for permission.</p>\n",
       "<p><a href=\"https://www.iana.org/domains/example\">More information...</a></p>\n",
       "</div>\n",
       "</body>\n",
       "</html>"
      ]
     },
     "metadata": {},
     "execution_count": 6
    }
   ],
   "source": [
    "soup"
   ]
  },
  {
   "cell_type": "code",
   "execution_count": 7,
   "metadata": {},
   "outputs": [
    {
     "output_type": "execute_result",
     "data": {
      "text/plain": [
       "[<title>Example Domain</title>]"
      ]
     },
     "metadata": {},
     "execution_count": 7
    }
   ],
   "source": [
    "soup.select('title')"
   ]
  },
  {
   "cell_type": "code",
   "execution_count": 8,
   "metadata": {},
   "outputs": [
    {
     "output_type": "execute_result",
     "data": {
      "text/plain": [
       "[<p>This domain is for use in illustrative examples in documents. You may use this\n",
       "     domain in literature without prior coordination or asking for permission.</p>,\n",
       " <p><a href=\"https://www.iana.org/domains/example\">More information...</a></p>]"
      ]
     },
     "metadata": {},
     "execution_count": 8
    }
   ],
   "source": [
    "soup.select('p')"
   ]
  },
  {
   "cell_type": "code",
   "execution_count": 9,
   "metadata": {},
   "outputs": [],
   "source": [
    "site_paragraphs = soup.select(\"p\")"
   ]
  },
  {
   "cell_type": "code",
   "execution_count": 10,
   "metadata": {},
   "outputs": [
    {
     "output_type": "execute_result",
     "data": {
      "text/plain": [
       "[<p>This domain is for use in illustrative examples in documents. You may use this\n",
       "     domain in literature without prior coordination or asking for permission.</p>,\n",
       " <p><a href=\"https://www.iana.org/domains/example\">More information...</a></p>]"
      ]
     },
     "metadata": {},
     "execution_count": 10
    }
   ],
   "source": [
    "site_paragraphs"
   ]
  },
  {
   "cell_type": "code",
   "execution_count": 11,
   "metadata": {},
   "outputs": [
    {
     "output_type": "execute_result",
     "data": {
      "text/plain": [
       "bs4.element.Tag"
      ]
     },
     "metadata": {},
     "execution_count": 11
    }
   ],
   "source": [
    "type(site_paragraphs[0])"
   ]
  },
  {
   "cell_type": "code",
   "execution_count": 12,
   "metadata": {},
   "outputs": [
    {
     "output_type": "execute_result",
     "data": {
      "text/plain": [
       "'This domain is for use in illustrative examples in documents. You may use this\\n    domain in literature without prior coordination or asking for permission.'"
      ]
     },
     "metadata": {},
     "execution_count": 12
    }
   ],
   "source": [
    "site_paragraphs[0].getText()"
   ]
  },
  {
   "cell_type": "code",
   "execution_count": 13,
   "metadata": {},
   "outputs": [],
   "source": [
    "import requests"
   ]
  },
  {
   "cell_type": "code",
   "execution_count": 14,
   "metadata": {},
   "outputs": [],
   "source": [
    "result = requests.get(\"http://www.example.com\")"
   ]
  },
  {
   "cell_type": "code",
   "execution_count": 15,
   "metadata": {},
   "outputs": [
    {
     "output_type": "execute_result",
     "data": {
      "text/plain": [
       "requests.models.Response"
      ]
     },
     "metadata": {},
     "execution_count": 15
    }
   ],
   "source": [
    "type(result)"
   ]
  },
  {
   "cell_type": "code",
   "execution_count": 16,
   "metadata": {},
   "outputs": [
    {
     "output_type": "execute_result",
     "data": {
      "text/plain": [
       "'<!doctype html>\\n<html>\\n<head>\\n    <title>Example Domain</title>\\n\\n    <meta charset=\"utf-8\" />\\n    <meta http-equiv=\"Content-type\" content=\"text/html; charset=utf-8\" />\\n    <meta name=\"viewport\" content=\"width=device-width, initial-scale=1\" />\\n    <style type=\"text/css\">\\n    body {\\n        background-color: #f0f0f2;\\n        margin: 0;\\n        padding: 0;\\n        font-family: -apple-system, system-ui, BlinkMacSystemFont, \"Segoe UI\", \"Open Sans\", \"Helvetica Neue\", Helvetica, Arial, sans-serif;\\n        \\n    }\\n    div {\\n        width: 600px;\\n        margin: 5em auto;\\n        padding: 2em;\\n        background-color: #fdfdff;\\n        border-radius: 0.5em;\\n        box-shadow: 2px 3px 7px 2px rgba(0,0,0,0.02);\\n    }\\n    a:link, a:visited {\\n        color: #38488f;\\n        text-decoration: none;\\n    }\\n    @media (max-width: 700px) {\\n        div {\\n            margin: 0 auto;\\n            width: auto;\\n        }\\n    }\\n    </style>    \\n</head>\\n\\n<body>\\n<div>\\n    <h1>Example Domain</h1>\\n    <p>This domain is for use in illustrative examples in documents. You may use this\\n    domain in literature without prior coordination or asking for permission.</p>\\n    <p><a href=\"https://www.iana.org/domains/example\">More information...</a></p>\\n</div>\\n</body>\\n</html>\\n'"
      ]
     },
     "metadata": {},
     "execution_count": 16
    }
   ],
   "source": [
    "result.text"
   ]
  },
  {
   "cell_type": "code",
   "execution_count": 17,
   "metadata": {},
   "outputs": [],
   "source": [
    "import bs4"
   ]
  },
  {
   "cell_type": "code",
   "execution_count": 19,
   "metadata": {},
   "outputs": [],
   "source": [
    "soup = bs4.BeautifulSoup(result.text,\"lxml\")"
   ]
  },
  {
   "cell_type": "code",
   "execution_count": 20,
   "metadata": {},
   "outputs": [
    {
     "output_type": "execute_result",
     "data": {
      "text/plain": [
       "<!DOCTYPE html>\n",
       "<html>\n",
       "<head>\n",
       "<title>Example Domain</title>\n",
       "<meta charset=\"utf-8\"/>\n",
       "<meta content=\"text/html; charset=utf-8\" http-equiv=\"Content-type\"/>\n",
       "<meta content=\"width=device-width, initial-scale=1\" name=\"viewport\"/>\n",
       "<style type=\"text/css\">\n",
       "    body {\n",
       "        background-color: #f0f0f2;\n",
       "        margin: 0;\n",
       "        padding: 0;\n",
       "        font-family: -apple-system, system-ui, BlinkMacSystemFont, \"Segoe UI\", \"Open Sans\", \"Helvetica Neue\", Helvetica, Arial, sans-serif;\n",
       "        \n",
       "    }\n",
       "    div {\n",
       "        width: 600px;\n",
       "        margin: 5em auto;\n",
       "        padding: 2em;\n",
       "        background-color: #fdfdff;\n",
       "        border-radius: 0.5em;\n",
       "        box-shadow: 2px 3px 7px 2px rgba(0,0,0,0.02);\n",
       "    }\n",
       "    a:link, a:visited {\n",
       "        color: #38488f;\n",
       "        text-decoration: none;\n",
       "    }\n",
       "    @media (max-width: 700px) {\n",
       "        div {\n",
       "            margin: 0 auto;\n",
       "            width: auto;\n",
       "        }\n",
       "    }\n",
       "    </style>\n",
       "</head>\n",
       "<body>\n",
       "<div>\n",
       "<h1>Example Domain</h1>\n",
       "<p>This domain is for use in illustrative examples in documents. You may use this\n",
       "    domain in literature without prior coordination or asking for permission.</p>\n",
       "<p><a href=\"https://www.iana.org/domains/example\">More information...</a></p>\n",
       "</div>\n",
       "</body>\n",
       "</html>"
      ]
     },
     "metadata": {},
     "execution_count": 20
    }
   ],
   "source": [
    "soup"
   ]
  },
  {
   "cell_type": "code",
   "execution_count": 21,
   "metadata": {},
   "outputs": [
    {
     "output_type": "execute_result",
     "data": {
      "text/plain": [
       "[<title>Example Domain</title>]"
      ]
     },
     "metadata": {},
     "execution_count": 21
    }
   ],
   "source": [
    "soup.select('title')"
   ]
  },
  {
   "cell_type": "code",
   "execution_count": 22,
   "metadata": {},
   "outputs": [
    {
     "output_type": "execute_result",
     "data": {
      "text/plain": [
       "[<p>This domain is for use in illustrative examples in documents. You may use this\n",
       "     domain in literature without prior coordination or asking for permission.</p>,\n",
       " <p><a href=\"https://www.iana.org/domains/example\">More information...</a></p>]"
      ]
     },
     "metadata": {},
     "execution_count": 22
    }
   ],
   "source": [
    "soup.select('p')"
   ]
  },
  {
   "cell_type": "code",
   "execution_count": 23,
   "metadata": {},
   "outputs": [
    {
     "output_type": "execute_result",
     "data": {
      "text/plain": [
       "[<h1>Example Domain</h1>]"
      ]
     },
     "metadata": {},
     "execution_count": 23
    }
   ],
   "source": [
    "soup.select('h1')"
   ]
  },
  {
   "cell_type": "code",
   "execution_count": 24,
   "metadata": {},
   "outputs": [
    {
     "output_type": "execute_result",
     "data": {
      "text/plain": [
       "'Example Domain'"
      ]
     },
     "metadata": {},
     "execution_count": 24
    }
   ],
   "source": [
    "soup.select('title')[0].getText()"
   ]
  },
  {
   "cell_type": "code",
   "execution_count": 27,
   "metadata": {},
   "outputs": [
    {
     "output_type": "execute_result",
     "data": {
      "text/plain": [
       "'This domain is for use in illustrative examples in documents. You may use this\\n    domain in literature without prior coordination or asking for permission.'"
      ]
     },
     "metadata": {},
     "execution_count": 27
    }
   ],
   "source": [
    "soup.select('p')[0].getText()"
   ]
  },
  {
   "cell_type": "code",
   "execution_count": 28,
   "metadata": {},
   "outputs": [],
   "source": [
    "site_paragraphs = soup.select(\"p\")"
   ]
  },
  {
   "cell_type": "code",
   "execution_count": 29,
   "metadata": {},
   "outputs": [
    {
     "output_type": "execute_result",
     "data": {
      "text/plain": [
       "bs4.element.Tag"
      ]
     },
     "metadata": {},
     "execution_count": 29
    }
   ],
   "source": [
    "type(site_paragraphs[0])"
   ]
  },
  {
   "cell_type": "code",
   "execution_count": 30,
   "metadata": {},
   "outputs": [
    {
     "output_type": "execute_result",
     "data": {
      "text/plain": [
       "'This domain is for use in illustrative examples in documents. You may use this\\n    domain in literature without prior coordination or asking for permission.'"
      ]
     },
     "metadata": {},
     "execution_count": 30
    }
   ],
   "source": [
    "site_paragraphs[0].getText()"
   ]
  },
  {
   "cell_type": "code",
   "execution_count": 2,
   "metadata": {},
   "outputs": [],
   "source": [
    "import bs4\n",
    "import requests"
   ]
  },
  {
   "cell_type": "code",
   "execution_count": 3,
   "metadata": {},
   "outputs": [],
   "source": [
    "res = requests.get('https://en.wikipedia.org/wiki/Impossible_world')\n",
    "\n",
    "soup = bs4.BeautifulSoup(res.text,\"lxml\")"
   ]
  },
  {
   "cell_type": "code",
   "execution_count": 11,
   "metadata": {},
   "outputs": [
    {
     "output_type": "execute_result",
     "data": {
      "text/plain": [
       "[<span class=\"toctext\">Argument from ways</span>,\n",
       " <span class=\"toctext\">Possible worlds</span>,\n",
       " <span class=\"toctext\">Impossible worlds</span>,\n",
       " <span class=\"toctext\">Applications</span>,\n",
       " <span class=\"toctext\">Non-normal modal logics</span>,\n",
       " <span class=\"toctext\">Avoiding Curry's paradox</span>,\n",
       " <span class=\"toctext\">Counternecessary statements</span>,\n",
       " <span class=\"toctext\">See also</span>,\n",
       " <span class=\"toctext\">References</span>,\n",
       " <span class=\"toctext\">Bibliography</span>,\n",
       " <span class=\"toctext\">External links</span>]"
      ]
     },
     "metadata": {},
     "execution_count": 11
    }
   ],
   "source": [
    "soup.select(\".toctext\")"
   ]
  },
  {
   "cell_type": "code",
   "execution_count": 12,
   "metadata": {},
   "outputs": [],
   "source": [
    "first_item = soup.select('.toctext')[0]"
   ]
  },
  {
   "cell_type": "code",
   "execution_count": 13,
   "metadata": {},
   "outputs": [
    {
     "output_type": "execute_result",
     "data": {
      "text/plain": [
       "'Argument from ways'"
      ]
     },
     "metadata": {},
     "execution_count": 13
    }
   ],
   "source": [
    "first_item.text"
   ]
  },
  {
   "cell_type": "code",
   "execution_count": 14,
   "metadata": {},
   "outputs": [
    {
     "output_type": "stream",
     "name": "stdout",
     "text": [
      "Argument from ways\nPossible worlds\nImpossible worlds\nApplications\nNon-normal modal logics\nAvoiding Curry's paradox\nCounternecessary statements\nSee also\nReferences\nBibliography\nExternal links\n"
     ]
    }
   ],
   "source": [
    "for item in soup.select('.toctext'):\n",
    "    print(item.text)"
   ]
  },
  {
   "cell_type": "code",
   "execution_count": 15,
   "metadata": {},
   "outputs": [],
   "source": [
    "# Grabbing an Image from a website with Python"
   ]
  },
  {
   "cell_type": "code",
   "execution_count": 16,
   "metadata": {},
   "outputs": [],
   "source": [
    "res = requests.get(\"https://en.wikipedia.org/wiki/N-universes\")"
   ]
  },
  {
   "cell_type": "code",
   "execution_count": 17,
   "metadata": {},
   "outputs": [],
   "source": [
    "soup = bs4.BeautifulSoup(res.text,\"lxml\")"
   ]
  },
  {
   "cell_type": "code",
   "execution_count": 18,
   "metadata": {},
   "outputs": [
    {
     "output_type": "execute_result",
     "data": {
      "text/plain": [
       "/span><span class=\"mw-editsection\"><span class=\"mw-editsection-bracket\">[</span><a href=\"/w/index.php?title=N-universes&amp;action=edit&amp;section=1\" title=\"Edit section: Example\">edit</a><span class=\"mw-editsection-bracket\">]</span></span></h2>\n",
       "<div class=\"thumb tright\"><div class=\"thumbinner\" style=\"width:302px;\"><a class=\"image\" href=\"/wiki/File:An_instance_of_an_n-universe_with_multiple_objects.jpg\"><img alt=\"\" class=\"thumbimage\" data-file-height=\"148\" data-file-width=\"400\" decoding=\"async\" height=\"111\" src=\"//upload.wikimedia.org/wikipedia/commons/thumb/5/54/An_instance_of_an_n-universe_with_multiple_objects.jpg/300px-An_instance_of_an_n-universe_with_multiple_objects.jpg\" srcset=\"//upload.wikimedia.org/wikipedia/commons/5/54/An_instance_of_an_n-universe_with_multiple_objects.jpg 1.5x\" width=\"300\"/></a> <div class=\"thumbcaption\"><div class=\"magnify\"><a class=\"internal\" href=\"/wiki/File:An_instance_of_an_n-universe_with_multiple_objects.jpg\" title=\"Enlarge\"></a></div>An instance of an n-universe with multiple objects, comprising a color variable, a space variable and a temporal constant</div></div></div>\n",
       "<p>The N-universe represented below shows the following characteristics:\n",
       "</p>\n",
       "<ul><li>it comprises 4 objects</li>\n",
       "<li>it has one variable-criterion of time (a single temporal position), one variable-criterion of location (with 4 space positions) and one variable-criterion of color (with three taxa: red, blue, green)</li>\n",
       "<li>the objects are in a <i>many-one</i> relationship to the color variable: several objects have the same color</li>\n",
       "<li>the objects are in <i>many-one</i> relationship to the time constant: several objects exist simultaneously at the single temporal position</li>\n",
       "<li>the objects are in <i>one-one</i> relationship with the space criterion: only one object exists at a given space position</li>\n",
       "<li>the objects are not with demultiplication with regard to the temporal criterion: the objects exist only at one single temporal position</li></ul>\n",
       "<h2><span class=\"mw-headline\" id=\"See_also\">See also</span><span class=\"mw-editsection\"><span class=\"mw-editsection-bracket\">[</span><a href=\"/w/index.php?title=N-universes&amp;action=edit&amp;section=2\" title=\"Edit section: See also\">edit</a><span class=\"mw-editsection-bracket\">]</span></span></h2>\n",
       "<ul><li><a class=\"mw-redirect\" href=\"/wiki/Possible_worlds\" title=\"Possible worlds\">Possible worlds</a></li>\n",
       "<li><a href=\"/wiki/Many-worlds_interpretation\" title=\"Many-worlds interpretation\">Many-worlds interpretation</a></li></ul>\n",
       "<h2><span class=\"mw-headline\" id=\"References\">References</span><span class=\"mw-editsection\"><span class=\"mw-editsection-bracket\">[</span><a href=\"/w/index.php?title=N-universes&amp;action=edit&amp;section=3\" title=\"Edit section: References\">edit</a><span class=\"mw-editsection-bracket\">]</span></span></h2>\n",
       "<ul><li>Franceschi, Paul (2001), <a class=\"external text\" href=\"https://web.archive.org/web/20061124073647/http://www.univ-corse.fr/~franceschi/GP(GB).html\" rel=\"nofollow\">A Solution to Goodman's paradox</a> English translation of a paper initially appeared in French under the title Une Solution pour le Paradoxe de Goodman], in <i>Dialogue: Canadian Philosophical Review</i>, vol. 40, pages 99–123.</li>\n",
       "<li>Franceschi, Paul (2002), <a class=\"external text\" href=\"https://web.archive.org/web/20061124073607/http://www.univ-corse.fr/~franceschi/index-fr.htm\" rel=\"nofollow\">Une application des n-univers à l'argument de l'apocalypse et au paradoxe de Goodman</a>, doctoral dissertation, Corti: University of Corsica.</li>\n",
       "<li>Franceschi, Paul (2006), Situations probabilistes pour n-univers goodmaniens, <i>Journal of Philosophical Research</i>, vol. 31, pages 123-141.</li>\n",
       "<li>Franceschi, Paul (2009), <a class=\"external text\" href=\"http://paulfranceschi.com/fr/index.php?option=com_content&amp;view=article&amp;id=7&amp;Itemid=10\" rel=\"nofollow\">Dialogue d'introduction aux n-univers - Introduction dialogue to n-universes</a>, Edition 2.1, CreateSpace</li></ul>\n",
       "<!-- \n",
       "NewPP limit report\n",
       "Parsed by mw1403\n",
       "Cached time: 20210123195405\n",
       "Cache expiry: 2592000\n",
       "Dynamic content: false\n",
       "Complications: []\n",
       "CPU time usage: 0.008 seconds\n",
       "Real time usage: 0.014 seconds\n",
       "Preprocessor visited node count: 24/1000000\n",
       "Post‐expand include size: 0/2097152 bytes\n",
       "Template argument size: 0/2097152 bytes\n",
       "Highest expansion depth: 2/40\n",
       "Expensive parser function count: 0/500\n",
       "Unstrip recursion depth: 0/20\n",
       "Unstrip post‐expand size: 0/5000000 bytes\n",
       "Number of Wikibase entities loaded: 0/400\n",
       "-->\n",
       "<!--\n",
       "Transclusion expansion time report (%,ms,calls,template)\n",
       "100.00%    0.000      1 -total\n",
       "-->\n",
       "<!-- Saved in parser cache with key enwiki:pcache:idhash:8517803-0!canonical and timestamp 20210123195405 and revision id 974691257. Serialized with JSON.\n",
       " -->\n",
       "</div><noscript><img alt=\"\" height=\"1\" src=\"//en.wikipedia.org/wiki/Special:CentralAutoLogin/start?type=1x1\" style=\"border: none; position: absolute;\" title=\"\" width=\"1\"/></noscript>\n",
       "<div class=\"printfooter\">Retrieved from \"<a dir=\"ltr\" href=\"https://en.wikipedia.org/w/index.php?title=N-universes&amp;oldid=974691257\">https://en.wikipedia.org/w/index.php?title=N-universes&amp;oldid=974691257</a>\"</div></div>\n",
       "<div class=\"catlinks\" data-mw=\"interface\" id=\"catlinks\"><div class=\"mw-normal-catlinks\" id=\"mw-normal-catlinks\"><a href=\"/wiki/Help:Category\" title=\"Help:Category\">Categories</a>: <ul><li><a href=\"/wiki/Category:Thought_experiments_in_philosophy\" title=\"Category:Thought experiments in philosophy\">Thought experiments in philosophy</a></li></ul></div></div>\n",
       "</div>\n",
       "</div>\n",
       "<div id=\"mw-data-after-content\">\n",
       "<div class=\"read-more-container\"></div>\n",
       "</div>\n",
       "<div id=\"mw-navigation\">\n",
       "<h2>Navigation menu</h2>\n",
       "<div id=\"mw-head\">\n",
       "<!-- Please do not use role attribute as CSS selector, it is deprecated. -->\n",
       "<nav aria-labelledby=\"p-personal-label\" class=\"mw-portlet mw-portlet-personal vector-menu\" id=\"p-personal\" role=\"navigation\">\n",
       "<h3 id=\"p-personal-label\">\n",
       "<span>Personal tools</span>\n",
       "</h3>\n",
       "<div class=\"vector-menu-content\">\n",
       "<ul class=\"vector-menu-content-list\"><li id=\"pt-anonuserpage\">Not logged in</li><li id=\"pt-anontalk\"><a accesskey=\"n\" href=\"/wiki/Special:MyTalk\" title=\"Discussion about edits from this IP address [n]\">Talk</a></li><li id=\"pt-anoncontribs\"><a accesskey=\"y\" href=\"/wiki/Special:MyContributions\" title=\"A list of edits made from this IP address [y]\">Contributions</a></li><li id=\"pt-createaccount\"><a href=\"/w/index.php?title=Special:CreateAccount&amp;returnto=N-universes\" title=\"You are encouraged to create an account and log in; however, it is not mandatory\">Create account</a></li><li id=\"pt-login\"><a accesskey=\"o\" href=\"/w/index.php?title=Special:UserLogin&amp;returnto=N-universes\" title=\"You're encouraged to log in; however, it's not mandatory. [o]\">Log in</a></li></ul>\n",
       "</div>\n",
       "</nav>\n",
       "<div id=\"left-navigation\">\n",
       "<!-- Please do not use role attribute as CSS selector, it is deprecated. -->\n",
       "<nav aria-labelledby=\"p-namespaces-label\" class=\"mw-portlet mw-portlet-namespaces vector-menu vector-menu-tabs\" id=\"p-namespaces\" role=\"navigation\">\n",
       "<h3 id=\"p-namespaces-label\">\n",
       "<span>Namespaces</span>\n",
       "</h3>\n",
       "<div class=\"vector-menu-content\">\n",
       "<ul class=\"vector-menu-content-list\"><li class=\"selected\" id=\"ca-nstab-main\"><a accesskey=\"c\" href=\"/wiki/N-universes\" title=\"View the content page [c]\">Article</a></li><li class=\"new\" id=\"ca-talk\"><a accesskey=\"t\" href=\"/w/index.php?title=Talk:N-universes&amp;action=edit&amp;redlink=1\" rel=\"discussion\" title=\"Discuss improvements to the content page (page does not exist) [t]\">Talk</a></li></ul>\n",
       "</div>\n",
       "</nav>\n",
       "<!-- Please do not use role attribute as CSS selector, it is deprecated. -->\n",
       "<nav aria-labelledby=\"p-variants-label\" class=\"mw-portlet mw-portlet-variants emptyPortlet vector-menu vector-menu-dropdown\" id=\"p-variants\" role=\"navigation\">\n",
       "<input aria-labelledby=\"p-variants-label\" class=\"vector-menu-checkbox\" type=\"checkbox\"/>\n",
       "<h3 id=\"p-variants-label\">\n",
       "<span>Variants</span>\n",
       "</h3>\n",
       "<div class=\"vector-menu-content\">\n",
       "<ul class=\"vector-menu-content-list\"></ul>\n",
       "</div>\n",
       "</nav>\n",
       "</div>\n",
       "<div id=\"right-navigation\">\n",
       "<!-- Please do not use role attribute as CSS selector, it is deprecated. -->\n",
       "<nav aria-labelledby=\"p-views-label\" class=\"mw-portlet mw-portlet-views vector-menu vector-menu-tabs\" id=\"p-views\" role=\"navigation\">\n",
       "<h3 id=\"p-views-label\">\n",
       "<span>Views</span>\n",
       "</h3>\n",
       "<div class=\"vector-menu-content\">\n",
       "<ul class=\"vector-menu-content-list\"><li class=\"selected\" id=\"ca-view\"><a href=\"/wiki/N-universes\">Read</a></li><li id=\"ca-edit\"><a accesskey=\"e\" href=\"/w/index.php?title=N-universes&amp;action=edit\" title=\"Edit this page [e]\">Edit</a></li><li id=\"ca-history\"><a accesskey=\"h\" href=\"/w/index.php?title=N-universes&amp;action=history\" title=\"Past revisions of this page [h]\">View history</a></li></ul>\n",
       "</div>\n",
       "</nav>\n",
       "<!-- Please do not use role attribute as CSS selector, it is deprecated. -->\n",
       "<nav aria-labelledby=\"p-cactions-label\" class=\"mw-portlet mw-portlet-cactions emptyPortlet vector-menu vector-menu-dropdown\" id=\"p-cactions\" role=\"navigation\">\n",
       "<input aria-labelledby=\"p-cactions-label\" class=\"vector-menu-checkbox\" type=\"checkbox\"/>\n",
       "<h3 id=\"p-cactions-label\">\n",
       "<span>More</span>\n",
       "</h3>\n",
       "<div class=\"vector-menu-content\">\n",
       "<ul class=\"vector-menu-content-list\"></ul>\n",
       "</div>\n",
       "</nav>\n",
       "<div id=\"p-search\" role=\"search\">\n",
       "<h3>\n",
       "<label for=\"searchInput\">Search</label>\n",
       "</h3>\n",
       "<form action=\"/w/index.php\" id=\"searchform\">\n",
       "<div data-search-loc=\"header-navigation\" id=\"simpleSearch\">\n",
       "<input accesskey=\"f\" autocapitalize=\"sentences\" id=\"searchInput\" name=\"search\" placeholder=\"Search Wikipedia\" title=\"Search Wikipedia [f]\" type=\"search\"/>\n",
       "<input name=\"title\" type=\"hidden\" value=\"Special:Search\"/>\n",
       "<input class=\"searchButton mw-fallbackSearchButton\" id=\"mw-searchButton\" name=\"fulltext\" title=\"Search Wikipedia for this text\" type=\"submit\" value=\"Search\"/>\n",
       "<input class=\"searchButton\" id=\"searchButton\" name=\"go\" title=\"Go to a page with this exact name if it exists\" type=\"submit\" value=\"Go\"/>\n",
       "</div>\n",
       "</form>\n",
       "</div>\n",
       "</div>\n",
       "</div>\n",
       "<div id=\"mw-panel\">\n",
       "<div id=\"p-logo\" role=\"banner\">\n",
       "<a class=\"mw-wiki-logo\" href=\"/wiki/Main_Page\" title=\"Visit the main page\"></a>\n",
       "</div>\n",
       "<!-- Please do not use role attribute as CSS selector, it is deprecated. -->\n",
       "<nav aria-labelledby=\"p-navigation-label\" class=\"mw-portlet mw-portlet-navigation vector-menu vector-menu-portal portal\" id=\"p-navigation\" role=\"navigation\">\n",
       "<h3 id=\"p-navigation-label\">\n",
       "<span>Navigation</span>\n",
       "</h3>\n",
       "<div class=\"vector-menu-content\">\n",
       "<ul class=\"vector-menu-content-list\"><li id=\"n-mainpage-description\"><a accesskey=\"z\" href=\"/wiki/Main_Page\" title=\"Visit the main page [z]\">Main page</a></li><li id=\"n-contents\"><a href=\"/wiki/Wikipedia:Contents\" title=\"Guides to browsing Wikipedia\">Contents</a></li><li id=\"n-currentevents\"><a href=\"/wiki/Portal:Current_events\" title=\"Articles related to current events\">Current events</a></li><li id=\"n-randompage\"><a accesskey=\"x\" href=\"/wiki/Special:Random\" title=\"Visit a randomly selected article [x]\">Random article</a></li><li id=\"n-aboutsite\"><a href=\"/wiki/Wikipedia:About\" title=\"Learn about Wikipedia and how it works\">About Wikipedia</a></li><li id=\"n-contactpage\"><a href=\"//en.wikipedia.org/wiki/Wikipedia:Contact_us\" title=\"How to contact Wikipedia\">Contact us</a></li><li id=\"n-sitesupport\"><a href=\"https://donate.wikimedia.org/wiki/Special:FundraiserRedirector?utm_source=donate&amp;utm_medium=sidebar&amp;utm_campaign=C13_en.wikipedia.org&amp;uselang=en\" title=\"Support us by donating to the Wikimedia Foundation\">Donate</a></li></ul>\n",
       "</div>\n",
       "</nav>\n",
       "<!-- Please do not use role attribute as CSS selector, it is deprecated. -->\n",
       "<nav aria-labelledby=\"p-interaction-label\" class=\"mw-portlet mw-portlet-interaction vector-menu vector-menu-portal portal\" id=\"p-interaction\" role=\"navigation\">\n",
       "<h3 id=\"p-interaction-label\">\n",
       "<span>Contribute</span>\n",
       "</h3>\n",
       "<div class=\"vector-menu-content\">\n",
       "<ul class=\"vector-menu-content-list\"><li id=\"n-help\"><a href=\"/wiki/Help:Contents\" title=\"Guidance on how to use and edit Wikipedia\">Help</a></li><li id=\"n-introduction\"><a href=\"/wiki/Help:Introduction\" title=\"Learn how to edit Wikipedia\">Learn to edit</a></li><li id=\"n-portal\"><a href=\"/wiki/Wikipedia:Community_portal\" title=\"The hub for editors\">Community portal</a></li><li id=\"n-recentchanges\"><a accesskey=\"r\" href=\"/wiki/Special:RecentChanges\" title=\"A list of recent changes to Wikipedia [r]\">Recent changes</a></li><li id=\"n-upload\"><a href=\"/wiki/Wikipedia:File_Upload_Wizard\" title=\"Add images or other media for use on Wikipedia\">Upload file</a></li></ul>\n",
       "</div>\n",
       "</nav>\n",
       "<!-- Please do not use role attribute as CSS selector, it is deprecated. -->\n",
       "<nav aria-labelledby=\"p-tb-label\" class=\"mw-portlet mw-portlet-tb vector-menu vector-menu-portal portal\" id=\"p-tb\" role=\"navigation\">\n",
       "<h3 id=\"p-tb-label\">\n",
       "<span>Tools</span>\n",
       "</h3>\n",
       "<div class=\"vector-menu-content\">\n",
       "<ul class=\"vector-menu-content-list\"><li id=\"t-whatlinkshere\"><a accesskey=\"j\" href=\"/wiki/Special:WhatLinksHere/N-universes\" title=\"List of all English Wikipedia pages containing links to this page [j]\">What links here</a></li><li id=\"t-recentchangeslinked\"><a accesskey=\"k\" href=\"/wiki/Special:RecentChangesLinked/N-universes\" rel=\"nofollow\" title=\"Recent changes in pages linked from this page [k]\">Related changes</a></li><li id=\"t-upload\"><a accesskey=\"u\" href=\"/wiki/Wikipedia:File_Upload_Wizard\" title=\"Upload files [u]\">Upload file</a></li><li id=\"t-specialpages\"><a accesskey=\"q\" href=\"/wiki/Special:SpecialPages\" title=\"A list of all special pages [q]\">Special pages</a></li><li id=\"t-permalink\"><a href=\"/w/index.php?title=N-universes&amp;oldid=974691257\" title=\"Permanent link to this revision of this page\">Permanent link</a></li><li id=\"t-info\"><a href=\"/w/index.php?title=N-universes&amp;action=info\" title=\"More information about this page\">Page information</a></li><li id=\"t-cite\"><a href=\"/w/index.php?title=Special:CiteThisPage&amp;page=N-universes&amp;id=974691257&amp;wpFormIdentifier=titleform\" title=\"Information on how to cite this page\">Cite this page</a></li><li id=\"t-wikibase\"><a accesskey=\"g\" href=\"https://www.wikidata.org/wiki/Special:EntityPage/Q3334155\" title=\"Structured data on this page hosted by Wikidata [g]\">Wikidata item</a></li></ul>\n",
       "</div>\n",
       "</nav>\n",
       "<!-- Please do not use role attribute as CSS selector, it is deprecated. -->\n",
       "<nav aria-labelledby=\"p-coll-print_export-label\" class=\"mw-portlet mw-portlet-coll-print_export vector-menu vector-menu-portal portal\" id=\"p-coll-print_export\" role=\"navigation\">\n",
       "<h3 id=\"p-coll-print_export-label\">\n",
       "<span>Print/export</span>\n",
       "</h3>\n",
       "<div class=\"vector-menu-content\">\n",
       "<ul class=\"vector-menu-content-list\"><li id=\"coll-download-as-rl\"><a href=\"/w/index.php?title=Special:DownloadAsPdf&amp;page=N-universes&amp;action=show-download-screen\" title=\"Download this page as a PDF file\">Download as PDF</a></li><li id=\"t-print\"><a accesskey=\"p\" href=\"/w/index.php?title=N-universes&amp;printable=yes\" title=\"Printable version of this page [p]\">Printable version</a></li></ul>\n",
       "</div>\n",
       "</nav>\n",
       "<!-- Please do not use role attribute as CSS selector, it is deprecated. -->\n",
       "<nav aria-labelledby=\"p-lang-label\" class=\"mw-portlet mw-portlet-lang vector-menu vector-menu-portal portal\" id=\"p-lang\" role=\"navigation\">\n",
       "<h3 id=\"p-lang-label\">\n",
       "<span>Languages</span>\n",
       "</h3>\n",
       "<div class=\"vector-menu-content\">\n",
       "<ul class=\"vector-menu-content-list\"><li class=\"interlanguage-link interwiki-fr\"><a class=\"interlanguage-link-target\" href=\"https://fr.wikipedia.org/wiki/N-univers\" hreflang=\"fr\" lang=\"fr\" title=\"N-univers – French\">Français</a></li></ul>\n",
       "<div class=\"after-portlet after-portlet-lang\"><span class=\"wb-langlinks-edit wb-langlinks-link\"><a class=\"wbc-editpage\" href=\"https://www.wikidata.org/wiki/Special:EntityPage/Q3334155#sitelinks-wikipedia\" title=\"Edit interlanguage links\">Edit links</a></span></div>\n",
       "</div>\n",
       "</nav>\n",
       "</div>\n",
       "</div>\n",
       "<footer class=\"mw-footer\" id=\"footer\" role=\"contentinfo\">\n",
       "<ul id=\"footer-info\">\n",
       "<li id=\"footer-info-lastmod\"> This page was last edited on 24 August 2020, at 12:50<span class=\"anonymous-show\"> (UTC)</span>.</li>\n",
       "<li id=\"footer-info-copyright\">Text is available under the <a href=\"//en.wikipedia.org/wiki/Wikipedia:Text_of_Creative_Commons_Attribution-ShareAlike_3.0_Unported_License\" rel=\"license\">Creative Commons Attribution-ShareAlike License</a><a href=\"//creativecommons.org/licenses/by-sa/3.0/\" rel=\"license\" style=\"display:none;\"></a>;\n",
       "additional terms may apply.  By using this site, you agree to the <a href=\"//foundation.wikimedia.org/wiki/Terms_of_Use\">Terms of Use</a> and <a href=\"//foundation.wikimedia.org/wiki/Privacy_policy\">Privacy Policy</a>. Wikipedia® is a registered trademark of the <a href=\"//www.wikimediafoundation.org/\">Wikimedia Foundation, Inc.</a>, a non-profit organization.</li>\n",
       "</ul>\n",
       "<ul id=\"footer-places\">\n",
       "<li id=\"footer-places-privacy\"><a class=\"extiw\" href=\"https://foundation.wikimedia.org/wiki/Privacy_policy\" title=\"wmf:Privacy policy\">Privacy policy</a></li>\n",
       "<li id=\"footer-places-about\"><a href=\"/wiki/Wikipedia:About\" title=\"Wikipedia:About\">About Wikipedia</a></li>\n",
       "<li id=\"footer-places-disclaimer\"><a href=\"/wiki/Wikipedia:General_disclaimer\" title=\"Wikipedia:General disclaimer\">Disclaimers</a></li>\n",
       "<li id=\"footer-places-contact\"><a href=\"//en.wikipedia.org/wiki/Wikipedia:Contact_us\">Contact Wikipedia</a></li>\n",
       "<li id=\"footer-places-mobileview\"><a class=\"noprint stopMobileRedirectToggle\" href=\"//en.m.wikipedia.org/w/index.php?title=N-universes&amp;mobileaction=toggle_view_mobile\">Mobile view</a></li>\n",
       "<li id=\"footer-places-developers\"><a href=\"https://www.mediawiki.org/wiki/Special:MyLanguage/How_to_contribute\">Developers</a></li>\n",
       "<li id=\"footer-places-statslink\"><a href=\"https://stats.wikimedia.org/#/en.wikipedia.org\">Statistics</a></li>\n",
       "<li id=\"footer-places-cookiestatement\"><a href=\"https://foundation.wikimedia.org/wiki/Cookie_statement\">Cookie statement</a></li>\n",
       "</ul>\n",
       "<ul class=\"noprint\" id=\"footer-icons\">\n",
       "<li id=\"footer-copyrightico\"><a href=\"https://wikimediafoundation.org/\"><img alt=\"Wikimedia Foundation\" height=\"31\" loading=\"lazy\" src=\"/static/images/footer/wikimedia-button.png\" srcset=\"/static/images/footer/wikimedia-button-1.5x.png 1.5x, /static/images/footer/wikimedia-button-2x.png 2x\" width=\"88\"/></a></li>\n",
       "<li id=\"footer-poweredbyico\"><a href=\"https://www.mediawiki.org/\"><img alt=\"Powered by MediaWiki\" height=\"31\" loading=\"lazy\" src=\"/static/images/footer/poweredby_mediawiki_88x31.png\" srcset=\"/static/images/footer/poweredby_mediawiki_132x47.png 1.5x, /static/images/footer/poweredby_mediawiki_176x62.png 2x\" width=\"88\"/></a></li>\n",
       "</ul>\n",
       "<div style=\"clear: both;\"></div>\n",
       "</footer>\n",
       "<script>(RLQ=window.RLQ||[]).push(function(){mw.config.set({\"wgPageParseReport\":{\"limitreport\":{\"cputime\":\"0.008\",\"walltime\":\"0.014\",\"ppvisitednodes\":{\"value\":24,\"limit\":1000000},\"postexpandincludesize\":{\"value\":0,\"limit\":2097152},\"templateargumentsize\":{\"value\":0,\"limit\":2097152},\"expansiondepth\":{\"value\":2,\"limit\":40},\"expensivefunctioncount\":{\"value\":0,\"limit\":500},\"unstrip-depth\":{\"value\":0,\"limit\":20},\"unstrip-size\":{\"value\":0,\"limit\":5000000},\"entityaccesscount\":{\"value\":0,\"limit\":400},\"timingprofile\":[\"100.00%    0.000      1 -total\"]},\"cachereport\":{\"origin\":\"mw1403\",\"timestamp\":\"20210123195405\",\"ttl\":2592000,\"transientcontent\":false}}});});</script>\n",
       "<script type=\"application/ld+json\">{\"@context\":\"https:\\/\\/schema.org\",\"@type\":\"Article\",\"name\":\"N-universes\",\"url\":\"https:\\/\\/en.wikipedia.org\\/wiki\\/N-universes\",\"sameAs\":\"http:\\/\\/www.wikidata.org\\/entity\\/Q3334155\",\"mainEntity\":\"http:\\/\\/www.wikidata.org\\/entity\\/Q3334155\",\"author\":{\"@type\":\"Organization\",\"name\":\"Contributors to Wikimedia projects\"},\"publisher\":{\"@type\":\"Organization\",\"name\":\"Wikimedia Foundation, Inc.\",\"logo\":{\"@type\":\"ImageObject\",\"url\":\"https:\\/\\/www.wikimedia.org\\/static\\/images\\/wmf-hor-googpub.png\"}},\"datePublished\":\"2006-12-19T20:02:35Z\",\"dateModified\":\"2020-08-24T12:50:44Z\"}</script>\n",
       "<script>(RLQ=window.RLQ||[]).push(function(){mw.config.set({\"wgBackendResponseTime\":123,\"wgHostname\":\"mw1322\"});});</script>\n",
       "</body></html>"
      ]
     },
     "metadata": {},
     "execution_count": 18
    }
   ],
   "source": [
    "soup"
   ]
  },
  {
   "cell_type": "code",
   "execution_count": 21,
   "metadata": {},
   "outputs": [
    {
     "output_type": "execute_result",
     "data": {
      "text/plain": [
       "[<img alt=\"\" class=\"thumbimage\" data-file-height=\"148\" data-file-width=\"400\" decoding=\"async\" height=\"111\" src=\"//upload.wikimedia.org/wikipedia/commons/thumb/5/54/An_instance_of_an_n-universe_with_multiple_objects.jpg/300px-An_instance_of_an_n-universe_with_multiple_objects.jpg\" srcset=\"//upload.wikimedia.org/wikipedia/commons/5/54/An_instance_of_an_n-universe_with_multiple_objects.jpg 1.5x\" width=\"300\"/>]"
      ]
     },
     "metadata": {},
     "execution_count": 21
    }
   ],
   "source": [
    "soup.select('.thumbimage')"
   ]
  },
  {
   "cell_type": "code",
   "execution_count": 22,
   "metadata": {},
   "outputs": [],
   "source": [
    "balls = soup.select('.thumbimage')[0]"
   ]
  },
  {
   "cell_type": "code",
   "execution_count": 23,
   "metadata": {},
   "outputs": [
    {
     "output_type": "execute_result",
     "data": {
      "text/plain": [
       "<img alt=\"\" class=\"thumbimage\" data-file-height=\"148\" data-file-width=\"400\" decoding=\"async\" height=\"111\" src=\"//upload.wikimedia.org/wikipedia/commons/thumb/5/54/An_instance_of_an_n-universe_with_multiple_objects.jpg/300px-An_instance_of_an_n-universe_with_multiple_objects.jpg\" srcset=\"//upload.wikimedia.org/wikipedia/commons/5/54/An_instance_of_an_n-universe_with_multiple_objects.jpg 1.5x\" width=\"300\"/>"
      ]
     },
     "metadata": {},
     "execution_count": 23
    }
   ],
   "source": [
    "balls"
   ]
  },
  {
   "cell_type": "code",
   "execution_count": 24,
   "metadata": {},
   "outputs": [
    {
     "output_type": "execute_result",
     "data": {
      "text/plain": [
       "['thumbimage']"
      ]
     },
     "metadata": {},
     "execution_count": 24
    }
   ],
   "source": [
    "balls['class']"
   ]
  },
  {
   "cell_type": "code",
   "execution_count": 26,
   "metadata": {},
   "outputs": [
    {
     "output_type": "execute_result",
     "data": {
      "text/plain": [
       "'//upload.wikimedia.org/wikipedia/commons/thumb/5/54/An_instance_of_an_n-universe_with_multiple_objects.jpg/300px-An_instance_of_an_n-universe_with_multiple_objects.jpg'"
      ]
     },
     "metadata": {},
     "execution_count": 26
    }
   ],
   "source": [
    "balls['src']"
   ]
  },
  {
   "source": [
    "# This cell needs to be changed to markdown type\n",
    "\n",
    "<img \n",
    "src=\"//upload.wikimedia.org/wikipedia/commons/thumb/5/54/An_instance_of_an_n-universe_with_multiple_objects.jpg/300px-An_instance_of_an_n-universe_with_multiple_objects.jpg\">"
   ],
   "cell_type": "code",
   "metadata": {},
   "execution_count": 30,
   "outputs": [
    {
     "output_type": "error",
     "ename": "SyntaxError",
     "evalue": "invalid syntax (<ipython-input-30-02fbf3563063>, line 1)",
     "traceback": [
      "\u001b[0;36m  File \u001b[0;32m\"<ipython-input-30-02fbf3563063>\"\u001b[0;36m, line \u001b[0;32m1\u001b[0m\n\u001b[0;31m    <img\u001b[0m\n\u001b[0m    ^\u001b[0m\n\u001b[0;31mSyntaxError\u001b[0m\u001b[0;31m:\u001b[0m invalid syntax\n"
     ]
    }
   ]
  },
  {
   "cell_type": "code",
   "execution_count": 31,
   "metadata": {},
   "outputs": [],
   "source": [
    "image_link = requests.get(\"https://upload.wikimedia.org/wikipedia/commons/thumb/5/54/An_instance_of_an_n-universe_with_multiple_objects.jpg/300px-An_instance_of_an_n-universe_with_multiple_objects.jpg\")"
   ]
  },
  {
   "cell_type": "code",
   "execution_count": 32,
   "metadata": {},
   "outputs": [
    {
     "output_type": "execute_result",
     "data": {
      "text/plain": [
       "b'\\xff\\xd8\\xff\\xdb\\x00C\\x00\\x04\\x03\\x03\\x04\\x03\\x03\\x04\\x04\\x03\\x04\\x05\\x04\\x04\\x05\\x06\\n\\x07\\x06\\x06\\x06\\x06\\r\\t\\n\\x08\\n\\x0f\\r\\x10\\x10\\x0f\\r\\x0f\\x0e\\x11\\x13\\x18\\x14\\x11\\x12\\x17\\x12\\x0e\\x0f\\x15\\x1c\\x15\\x17\\x19\\x19\\x1b\\x1b\\x1b\\x10\\x14\\x1d\\x1f\\x1d\\x1a\\x1f\\x18\\x1a\\x1b\\x1a\\xff\\xdb\\x00C\\x01\\x04\\x05\\x05\\x06\\x05\\x06\\x0c\\x07\\x07\\x0c\\x1a\\x11\\x0f\\x11\\x1a\\x1a\\x1a\\x1a\\x1a\\x1a\\x1a\\x1a\\x1a\\x1a\\x1a\\x1a\\x1a\\x1a\\x1a\\x1a\\x1a\\x1a\\x1a\\x1a\\x1a\\x1a\\x1a\\x1a\\x1a\\x1a\\x1a\\x1a\\x1a\\x1a\\x1a\\x1a\\x1a\\x1a\\x1a\\x1a\\x1a\\x1a\\x1a\\x1a\\x1a\\x1a\\x1a\\x1a\\x1a\\x1a\\x1a\\x1a\\x1a\\x1a\\xff\\xc0\\x00\\x11\\x08\\x00o\\x01,\\x03\\x01\"\\x00\\x02\\x11\\x01\\x03\\x11\\x01\\xff\\xc4\\x00\\x1c\\x00\\x01\\x00\\x02\\x02\\x03\\x01\\x00\\x00\\x00\\x00\\x00\\x00\\x00\\x00\\x00\\x00\\x00\\x05\\x06\\x07\\x08\\x02\\x03\\x04\\x01\\xff\\xc4\\x00M\\x10\\x00\\x01\\x03\\x03\\x01\\x03\\x07\\x07\\x05\\r\\x04\\x0b\\x00\\x00\\x00\\x00\\x01\\x00\\x02\\x03\\x04\\x05\\x11\\x06\\x12!1\\x07\\x08\\x16AQT\\x92\\x13\"aq\\x81\\x94\\xe2\\x14\\x95\\xa1\\xd1\\xe1\\x15#2BCRSb\\x91\\x93\\xb1\\xc1\\xd2\\x17\\x183\\x83%&45Ucdrs\\xb2\\xf1\\xff\\xc4\\x00\\x1b\\x01\\x01\\x00\\x02\\x03\\x01\\x01\\x00\\x00\\x00\\x00\\x00\\x00\\x00\\x00\\x00\\x00\\x00\\x05\\x06\\x03\\x04\\x07\\x02\\x01\\xff\\xc4\\x003\\x11\\x00\\x01\\x04\\x01\\x01\\x05\\x06\\x05\\x04\\x02\\x03\\x00\\x00\\x00\\x00\\x00\\x01\\x00\\x02\\x03\\x04\\x11\\x05\\x12!1R\\xb1\\x06\\x14\\x15\"AQ\\x13aq\\xd1\\xe12\\x81\\x91\\xa1#\\xc1Br\\xf0\\xff\\xda\\x00\\x0c\\x03\\x01\\x00\\x02\\x11\\x03\\x11\\x00?\\x00\\xd4\\xd4D]\\tQ\\xd1\\x11\\x11\\x11\\x11\\x11\\x11\\x11\\x11\\x11\\x11\\x11\\x11\\x11\\x11\\x11\\x11\\x11\\x11\\x11\\x11\\x11\\x11\\x11\\x11\\x11\\x11\\x11\\x11\\x11\\x11\\x11\\x11\\x11\\x11\\x11\\x11\\x11\\x11\\x11\\x11\\x11\\x11\\x11\\x11\\x11\\x11\\x11\\x11\\x11\\x11\\x11\\x11\\x11\\x11\\x11\\x11\\x11\\x11\\x11\\x11p\\x96X\\xe0ht\\xf260N\\x01q\\xc6WE\\xc6\\xb9\\xb6\\xea7\\xce\\xf0\\x0b\\xb81\\xa7\\xf1\\x9c\\xaa\\x11V\\xcb]Te\\xaby{\\xfa\\xbb\\x00\\xec\\x01E^\\xbe\\xda\\x83\\x00e\\xca[O\\xa0n\\xc8\\x03\\x8e\\x1a\\xae\\xf1\\xcd\\x0c\\xb8\\xd8\\x94\\x1c\\xf64\\x9f\\xe4\\xbd\\x06\\x9aM\\x92\\xe6\\x80\\xf6\\x8d\\xe7d\\xe4\\x8fg\\x15\\x15mp; qY\\x12\\xdf\\xa3\\xae\\xd5\\x16\\xd3p\\x82\\x9d\\xce\\x81\\x83%\\xe0pU\\'v\\x92\\xccO\\xf34\\x10\\xba\\xdd^\\xc1i\\xd7`\\xf2\\xc8\\xe6\\xbb\\xdfq\\x1f\\xc2\\xa5q\\xde8\"\\x96\\xb8R\\x07\\x87H\\xc6\\x86\\xcc\\xcc\\xf9F\\x81\\x8d\\xa1\\xdb\\xeb\\x1fHQ*\\xe7F\\xecW\\xe1\\x12\\xc7\\xfc{\\x15\\xca\\xf5\\xbd\\x1a\\xce\\x85p\\xd5\\xb1\\xc7\\x88#\\x81\\x1e\\xe1\\x11\\x11o\\xa8$\\\\\\x98\\xc7H\\xe0\\xd64\\xb9\\xc7\\x80\\x0b\\xaeYY\\x04O\\x96Wl\\xc6\\xc1\\x97\\x14\\xd3w!<\\xa2w\\xee.>h\\xec\\n\\x1fT\\xd4\\x9b\\xa7C\\xb5\\x8c\\xb8\\xf0\\x1fu\\xf4\\xb5\\xc22\\xf08+\\r\\xbfF\\xddn\\x031\\xb2(\\x867yI1\\xfc\\x12\\xbfE\\xdf-\\xb1>i\\xe8\\x8c\\x90\\xb0e\\xcf\\x85\\xc1\\xf8\\x1d\\xb8\\x1b\\xd6D\\xd1\\xd32\\xe5[OLd\\x11\\x87\\xb8\\x02Vc\\xd6z\\x1a=-j\\xa7\\xac\\x82\\xb0L\\x1e<\\xe0z\\xf7u.b\\xee\\xdajqK\\x93\\x1bK}\\xb7\\xf5\\xca\\xa9M\\xaa\\xdc\\x86O\\xd0\\x08Zr\\x08<\\x11^\\xf5\\xcd\\x9a\\x95\\xd9\\xaf\\xb7D\\xd8\\xa5\\x07\\xef\\xcd`\\xc0p\\xed\\xc7j\\xa2.\\xa1\\xa5jp\\xea\\xb5\\x84\\xf1n\\xf7\\x1e\\xa0\\xab\\x1dk\\r\\xb5\\x10\\x91\\xbb\\x91\\x11\\x14\\xb2\\xd9E\\xf7\\x1b\\xb3\\x9c\\x0e\\xd2\\xb8I#b\\x8d\\xd2Hp\\xd6\\xf1^ZG:\\xe3S\\x1cE\\xc1\\xbbn\\x00\\x0e\\xa0\\xa54\\xfa=\\xf6L9\\xd8h\\xe2V\\xfdZ\\x86\\xc9\\xcep\\x02\\xf4\\xbax\\xd9\\xc5\\xd9\\xf5\\x02W\\xc6O\\x14\\x8e\\xd9d\\x8d.\\xec\\xe0VE\\xd5|\\x96\\xd3X4\\xcc\\x176\\xdc\\x19,\\xb24\\x12\\xcc\\xef\\x1b\\x96\\x18\\xaa\\x90o\\xdf\\xbcu\\x85)wM\\xa7\\x0cy\\x8d\\xc7?5*\\xed2\"7\\x13\\x95fE\\te\\xbb\\xbay]KT\\xfd\\xa7\\xe318\\xf1=\\xa1M\\xaa\\xa3\\x1e\\xd7\\xe7\\n\\x06h]\\x03\\xf6\\\\\\x88\\x88\\xbd\\xac(\\xb95\\x8e{\\x83X\\xd2\\xe7\\x1e\\x00\\x0c\\x92\\x91\\xc6\\xe9^\\xd6F2\\xe7\\x1c\\x00\\xac\\xb6\\x9bL\\x95\\xb32\\x8a\\xdb\\x19\\x92Y7\\x12\\x06\\xf7\\x9f\\xab\\xd0\\xa1\\xb5MR-20\\\\2\\xe3\\xc0\\x7f\\xefEp\\xec\\xd7f,\\xf6\\x8er\\x18vco\\xeaw\\xfa\\x1f5^\\x92\\x03\\x08\\xcc\\xaec}\\x00\\xed\\x1f\\xa1y\\x1fUN\\xc3\\x87N\\xc6\\xff\\x00\\xdd\\x91\\xfcU\\xabTi\\xaa\\xfd<vnQ\\x18\\x9cG\\x02\\x16=\\xb9\\xbc\\x10\\xe0U^\\x0e\\xd1Z\\x91\\xf9-\\x18W\\xadO\\xb1:m8\\x8f\\xc3{\\xb3\\xeeH\\xe9\\x85;\\xc4\\x027\\x83\\xc0\\x8e\\xb4T\\xcbe\\xeaKuH\\x8aG\\x17\\xd2\\x17oi\\xdf\\xb3\\xe9\\n\\xe7\\xb8\\x80Zr\\x0e\\xf0GXWJ\\x96\\xd9i\\x99\\x1b\\x8f\\xa8\\\\\\x86\\xd5WU~\\xc9\\xde=\\xd1\\x11\\x16\\xea\\xd3DDDDDDDDDUM])5T\\xf1d\\xe1\\xb1\\xedc\\xd2O\\xd8\\xa0`\\x93\\xc9\\xc8\\x0fR\\xb0j\\xealKOP\\x06\\xe7\\xb4\\xb1\\xc7\\xd28\\x7f\\x15ZT\\xab\\xe0\\xf7\\x87\\x87+u\\x17l\\xc2\\xc2\\xd5l\\xb6\\xd6\\x06\\x968\\x1e\\x05gm+\\xcb\\x08\\xb5\\xe9\\xb9mrB\\xc7\\x87\\xb4\\x80H\\xe1\\xb9k=5[\\xa1 \\x13\\xb9NR\\xdc\\x80\\x1f\\x84\\xabv+g\\x82\\xe9\\xdaF\\xb4\\x18\\x03\\\\U\\xfa\\xa6\\xe6\\xd9j_8\\xf3Z_\\xb5\\x8fB\\x8b{<\\x9b\\xdc\\xdf\\xcd$\\x05\\x0b\\x1d{\\xa6|qG\\xe79\\xee\\x00\\x052\\xe3\\xb4\\xe2{I*\\xcd\\xd9\\xa8\\x9f\\x13d\\xcf\\x03\\x85X\\xed\\xf6\\xa1\\x15\\xe7A\\xb3\\xfa\\x86\\x7f\\x8d\\xcb\\xe2\"+\\x9a\\xe5J\\x13UK\\xe4\\xed\\xac`;\\xe5\\x94\\x03\\xea\\x03?R\\x81\\xb5]]F\\xf0\\xd2|\\xde\\xa5`\\xd4\\xf4\\xfeZ\\xd9\\xe5\\x1a2\\xe8^\\x1d\\xec;\\x8f\\xf2T\\xa5O\\xd5\\x99\\xb79\\x0e\\xe1\\x80\\xact\\x98\\xc9+l\\x95\\x95\\xac\\x9a\\xa9\\xd4\\xefd\\x91I\\xb2\\xe6\\xef\\x04\\x15y\\x9f\\x94\\xbb\\x85\\xca\\x95\\x90UU=\\xf1\\xb4`\\x02\\xec\\xadv\\x8a\\xa6X\\x0f\\x98\\xf2=\\x0b\\xdf\\x1d\\xf2\\xa1\\x83~\\xff\\x00j\\xa7M\\xa55\\xe7r\\x8c\\xb1\\xa1\\xb2S\\x90\\xb2\\xdd\\xcfR5\\xf4\\xef\\x05\\xd9\\xdcUq\\xae\\x0ec\\\\\\xde\\x0e\\x19\\n\\x8enuU\\xefd\\x11\\xe72\\x10\\xd1\\x8d\\xea\\xf2\\x1a\\x18\\x1a\\xc6\\xf0h\\x00{\\x15\\xbf\\xb3U\\rF\\xc8=\\x0e\\x16\\xab\\xa8\\xb6\\x8b\\x03G\\x12\\x88\\x88\\xaeK\\n\\x88\\xbf\\xd4\\xf9\\x18\\xe9\\xa3\\xce6\\xde\\\\}\\x9f\\xfdQ\\x90\\xd7\\xba\\'5\\xf1\\xbb\\x0e\\x1b\\xc1^\\xddU\\x0b\\x9dG\\x0c\\xcc\\x04\\x98\\x9eA#\\xa8\\x1f\\xb4*\\x98\\x9d\\xe3\\xadi\\x1dY\\xf4ds\\x15\\xa2\\x81\\x1d\\xdca\\\\+\\xf5u\\xc2\\xba\\x9d\\xb0TT9\\xd1\\xb4`\\x02\\xe5[\\x9e\\xaf9\\xde\\xbcFW\\x1e\\xb5\\xc0\\x9c\\xf1Q\\xf6\\xb5\\xb9g\\x18\\nAw\\xd3\\xcec\\xab\\x86\\\\\\xefc\\xc1\\xfaVGw\\xe1\\x1cp\\xeaX\\xe2\\x82\\x9c\\xd5VA\\x08\\xdf\\xb6\\xf0\\x0f\\xab\\xaddwq\\xdd\\xc3\\xa94\\x92\\xe7\\x07\\xb8\\xa8\\x1dS\\x19o\\xba\\xf8\\x88\\x8auB\\xae\\xfai\\x04[o<vvG\\xb7\\xec\\x05Zt\\x86\\xafn\\x99\\xba2\\xb4\\xb1\\xb2\\x16\\xf0\\xca\\xa4\\xd5\\xbd\\xcc\\xa4\\x95\\xd1\\x8c\\x96\\xe1\\xd8\\x1d\\x80\\xfdYQ\\x0f\\xba\\x02\\xdf\\xc2\\\\\\xf3\\xb40>K\\x81\\xc7\\x86\\x06\\x17o\\xec^\\xab\\r=)\\xd1\\x0e;D\\x95\\x929J\\xe5\\x1d\\xfa\\xc2\\xa7\\xca\\x16\\x86\\x001\\x81\\xd4\\x16#\\xb8\\xd5\\xe4\\x1d\\xeb\\xe5]\\xc7\\x8e\\xf5\\x0f,\\xae\\x95\\xd9*>\\xbd}\\x9d\\xe5x\\xd5\\xf5\\x7f\\x8d\\x96\\xb5p\\'$\\x92\\xaf\\x96\\tL\\xb6\\x8ar\\xe3\\x92\\xdc\\xb7\\x7f\\xa0\\xaa\\x12\\xbf\\xd9)\\xbeKj\\xa7a\\xdc\\xe7\\r\\xb7{~\\xc5j\\xd2A\\xf8\\xc7\\x1c0\\xb9\\xb6\\xa4G\\xc2\\x19\\xe3\\x95\\xefDEiU\\xc4DDDDDDD]u\\x15\\x11RB\\xe9\\xaa^#\\x8d\\xbdg\\xaf\\xd0\\x02\\xf8Hh\\xc9_@.8\\x0b\\x8d],u\\xb4\\xef\\x82q\\x96;\\xaf\\xb0\\xf6\\x85F\\xb8\\xdajm\\xae\\xfb\\xf3v\\xa3\\'\\xcd\\x91\\xbb\\xc1R\\x15z\\xaa\\xa9\\xf3\\x13F\\x1b\\x0c#p\\x05\\xa1\\xc4\\xfaJ\\xe8:\\x9e\\xe2A\\x06H\\xc8<A\\x89\\xa4\\x7f\\x05Z\\xb9=K\\x07\\xd7#\\xd7\\n\\xc1V\\x1b0{`\\xfa(u\\xdb\\x03&\\x96F\\xc7N\\xd7=\\xee;\\x9a\\xd1\\x95m\\xb1j\\xdb,\\x12F\\xcdK\\xa5h.Q\\x026\\xa6\\x85\\xcf\\x86\\\\v\\xeev\\xc9>\\xc0\\xb6\\x0e\\xcd\\xa1\\xb4m\\xca\\xddKp\\xb4\\xdac\\x14\\x95q\\t\"v\\xd3\\xd8KOh\\xca\\xacOr\\n\\xae\\x1f\\x18\\x1c{\\x80>\\xea[\\xfc\\x98\\xcbx\\xac\\x03d\\xb3\\xc9A\\x99\\xaa\\xdc\\x1dP\\xe1\\x86\\x80r\\x18:\\xfd\\xaa_\\x0b=3\\x93}2x\\xdaZ\\x7f\\xcf\\x93\\xeb]\\xec\\xe4\\xcfK\\x9e6\\x86\\xfe\\xfeO\\xea[\\xf0\\xf6\\xafM\\xae\\xc0\\xc61\\xd8\\xfa\\x0f\\xba\\x88\\x9bO\\xb3;\\xf6\\xde\\xe1\\x95\\xaf\\xd8E\\x7f\\xe57\\xa2z:\\xae\\x8e\\xc7n\\xb1\\x07\\xde+\\xa3\\x12\\x19\\x8c\\xf2\\x06\\xd3\\xc6\\xe2C\\\\7\\xf9\\xce$\\x1d\\xdc0\\xb1e\\xf6\\xe8m\\x94\\xed\\x10\\x91\\xf2\\x89\\x0f\\x9b\\x91\\x9c\\x01\\xc4\\xe1Y\\xa9\\xea\\x90\\xdc\\xacl\\x00CG\\xbf\\xaa\\x8e\\x92\\x94\\x91\\xc8#\\xceIR\\x845\\xc0\\xb5\\xe09\\xae\\x18 \\xf5\\x85J\\xbb\\xd8f\\xa1{\\xe5\\xa7i\\x96\\x979\\x04o-\\x1e\\x9f\\xad|\\xe9=\\xcb\\xf4\\xac\\xfd\\xd8_zQr\\xfd+?v\\xdf\\xa9i\\xd9\\xb7R\\xd3p\\xe0r=T\\x85z\\xd6k\\xbb \\x8c(e\\xc9\\x8ct\\x8f\\x0c\\x8d\\xa5\\xef;\\x80\\x03$\\xafl\\xd7y\\xa79\\x9a\\x1ag\\x1e\\xdf \\xd0~\\x80\\xbdT:\\x8e\\xa6\\x82h\\xe4\\x8e\\x9e\\x8d\\xeca\\xc9\\x8d\\xd0\\x00\\xd7\\x0e\\xc3\\x8c\\x1c{T8ly\\xde\\xed\\xdfE(K\\xf1\\xb8\\x7fjf\\xc1cu\\x015\\x15m\\x1e\\\\\\x8c1\\xbcv\\x07^}*ue\\x9eG\\x19\\xa2yR\\x82\\xbe\\n\\xbd\\x1f\\x1d\\xbe\\xe9oc$\\x98\\xc3W1\\x86V\\xb8\\xe3#.\\xcbNz\\xb7\\xfa\\xd6R\\x1c\\x8dh\\xa2\\x7f\\xdc\\x0c\\xf7\\x99\\x7f\\xa9x=\\xaa\\xd3\\xf4\\xe3\\xf0\\x1d\\x1b\\x81\\x1fO\\xba\\x8c\\x93N\\x9ewm\\xb9\\xc1j\\x9aaOk\\x9a\\x1aKV\\xb1\\xd4\\x146\\x98[OEIX\\xf8a\\x8d\\xae.\\r\\r\\x03vN\\xfe+;\\xe9>Jt}\\xd7I\\xd8k\\xea\\xec\\xac\\x9e\\xa2\\xaa\\xdf\\x0c\\xd2\\xc9\\xf2\\x89F\\xd3\\xcbw\\x9c\\x07c\\x8a\\x9e\\xd45\\xda\\xdamh\\xecJ\\xd3\\x87\\xf0\\xc7\\xd3*>\\x1aO\\x9aG0\\x1e\\x0bZ_\\x1be\\x8d\\xd1\\xca\\xdd\\xa6<a\\xc0\\xf5\\x85F\\xba\\xd9\\'\\xb6\\xb8\\xbbd\\xc9NO\\x9b \\xea\\xf5\\xf6-\\xd7\\xbe\\xf2e\\xa0\\xb4\\xf5\\x92\\xe5x\\xaf\\xd3\\xce}-\\xbe\\x99\\xf5\\x12\\xb2*\\x89K\\xdc\\xd6\\x8c\\xe0y\\xcbR\\xb5>\\xbd\\xa7\\xba\\xd5\\x7f\\xabv\\n-?D\\xd3\\xe6\\xc6\\xc7\\xbey\\x1e?]\\xef$\\x1f`\\n\\x19\\x9a\\xdd-a\\xbeF8c\\xd7w\\xddJ\\xc1Rz\\xa7q\\x04\\x1fEI]\\x90\\xc3%D\\x8d\\x8e\\x06:G\\xbb\\x83Z2\\xbdr]e\\x99\\xc1\\xd2CL\\xe7v\\xf9\\x06\\x85\\xdf\\x1e\\xa2\\xad\\x84b\\x0f#\\x10\\xfdH\\x1a?\\x92\\xf8\\xd6\\xc5\\x9f3\\xb7}\\x16\\xf3\\x8c\\x98\\xdc7\\xfdU\\x82\\xc5f6\\xd6:Z\\x8c\\x1a\\x97\\xee\\xdcs\\xb0;=jc\\x8a\\xa4\\xf4\\x9e\\xe3\\xfaV~\\xed\\xaaF\\xcd\\xa8f\\xa8\\xac\\x10\\xd7\\xbd\\xa5\\xb2\\x0c5\\xc1\\xa1\\xb8wR\\xb0\\xd6\\xbbU\\x80D\\xc0B\\x83\\xb1R\\xc3\\xc9\\x91\\xe4\\x15eL)}9y\\xd3\\x96\\xbb\\xc55&\\xb2\\xb5\\xba\\xb6\\x92\\xb9\\xe26\\xce\\xd9\\\\\\xd3Lxge\\xa7\\xce\\x04\\x9d\\xeb9\\xcb\\xc9f\\x96\\x8d\\xeei\\xb3\\xb4\\x10q\\xfe\\xd1\\'\\xf5--C\\xb45\\xb4\\xd9\\xbe\\x14\\xccw\\xd4c\\x1dW\\x884\\xf9\\'\\x8c=\\xa4oZ\\xec\\x07h\\xca\\xa8\\xde,U\\x14\\xae|\\xd4y\\x92\\x98\\x9c\\xec\\x8e,\\xf6v-\\xafw&z\\\\p\\xb47\\xf7\\xf2\\x7fR\\xe8w&\\xfae\\xbc--\\x1f\\xe7\\xc9\\xf5\\xa8;=\\xa7\\xd3-7e\\xcdw\\xcbp\\xfb\\xa9\\x1a\\xf4\\xac\\xd6vX\\xe1\\xbdi\\xb9$\\xf1@3\\xb8o+`\\xf9J\\x83C\\xe8fS\\xc5&\\x97\\x86\\xe3r\\xaaa|q\\x99\\x9e\\xc65\\xb9\\xc6\\xd3\\x9c\\x0eN\\xfe\\xa1\\xf4,/U\\xa9\\x9f%G\\x94\\xa0\\xb7[\\xed\\x8c\\x1b\\x84t\\xf0\\x92\\x07\\xb5\\xe4\\x92}\\xab\\x1di\\xa3\\xb26\\xc6C}\\xc8\\xfc\\xa9\\x17m\\x01\\xc3z\\xef\\xb2\\xe9\\xe9\\x1f#*.\\x0c\\xd8\\x85\\xbb\\xdb\\x1b\\xb8\\xb8\\xfaGb\\xb5\\xe5R\\xbaQq\\xc8&F;\\xd0c\\x1b\\xd5\\x9a\\xd7w\\x82\\xe9\\x1f\\x99\\x88\\xe7\\x03\\xcf\\x8c\\xff\\x00\\x11\\xda\\x15\\xba\\x84\\xd5\\x9a>\\x1c|~~\\xaa\\xbfv+\\x0e\\xf3\\xbf\\x87\\xcb\\xd1{\\xd1\\x11L\\xa8\\x94DDDDL\\x90\\thk\\x88\\x19\\x01\\xc3 \\x9e\\xc3\\xe8_\\t\\xc0\\xca\\xfa\\x06N\\x14\\x95\\xbfO]\\xef\\x14\\xd2Og\\xb7\\xba\\xad\\xac8\\x04\\xc8\\xd8\\xda\\xe3\\xd8\\x0b\\x88\\xca\\x8c\\xab\\xe4\\x9b[\\xdd\\xa6\\xf2\\x954\\x94\\xf1\\x8f\\xc5a\\xab\\x8f\\r\\x1e\\xc2\\xb8E\\xcb~\\xa5\\xa7\\x8d\\x90\\xc3\\x05\\xaa(\\xa3\\x1b,ch\\xf0\\x1a=\\x03+\\xb4r\\xf1\\xaa\\x9b\\xc1\\x96\\xcft\\xfbW;\\xbd{S\\xb2\\xf2\\x18\\x1a\\x1b\\xe83\\xd5[kT\\x8a\\xb8\\xcf\\x13\\xee\\xbb \\xe4\\x0fT\\xcaG\\x95\\x9a\\xd9\\x00\\xeb\\xda\\xaa\\'\\x1f\\xb1\\xa5OP\\xf3s\\xa8y\\x06\\xe5\\xa8)\\xe2o[`\\xa7t\\x87\\xf6\\x92\\x14\\x00\\xe5\\xf7U\\xb7\\x83-~\\xe7\\xf6\\xaec\\x9c\\x16\\xad\\x1f\\x89j\\xf7?\\xb5C=\\xba\\xa3\\xb8\\x16\\x85\\xbb\\xe5YN\\xc3\\xc8f\\x94\\xb4\\xc8\\xc9j\\xe2\\xa9\\xbcL\\xd3\\x91\\xf2\\xa7\\x86\\xc7\\xe0o\\x1fi+\\'EN\\xd61\\x8c\\x8d\\x8d\\x8d\\x8c\\x01\\xadk\\x1a\\x00h\\x1c\\x00\\x1dAk\\x08\\xe7\\x0f\\xab\\xdb\\xc2;W\\xb9}\\xab\\xb0s\\x8c\\xd6\\r\\xe1\\x1d\\xa7\\xdc\\xbe%\\x176\\x9b\\xa8Ns#\\x81\\xfd\\xff\\x00\\x0b\\xd0sB\\xdaFB\\xbe\\xd6T\\xc3k\\xa2\\x96\\xae\\xa7\\xfc8\\xc6\\xe6\\xf5\\xb9\\xddM\\x1e\\xb5\\xab\\xa3\\x9c\\x8e\\xb2\\x1c#\\xb4{\\x97\\xc4\\xaeZk\\x94[\\xa6\\xba\\xb1T\\xd7jG\\xd3\\xc6(\\xaa\\x0b@\\xa7\\x8b\\xc9\\xb07`\\x1c\\x91\\x93\\x92\\xb4\\x9f\\xa4Y\\x8f\\x05\\xd8\\xc7\\xc9}\\xdb\\n\\xa1\\xa9-\\xf7-y\\xca\\xeb\\xa1\\x872\\xd4\\xedC\\x13\\x07SN\\xc0w\\xb1\\xad\\x04\\x93\\xea\\xf4\\xab\\xb6\\xa2\\xe6\\xbdUp\\xaa\\x92\\xa2\\xd1\\xaa`\\x94\\x91\\x86\\xc7YJ\\xe8\\xf1\\xe8\\x0ei#\\x1e\\xc5Hw(\\xb7=\\x17u\\xab\\xbfi\\xfaj\\x1f\\x95V\\xb8\\xc4MT\\x1eT\\xb1\\x84uo\\x18$\\x01\\x95\\xe8\\x1c\\xe85\\xc3xGf\\xf7\\x0f\\x89[oA\\xa9Vlu\\xeb`\\x06\\x81\\x9c\\xfa\\x9f\\xe3\\xd1i@\\xe8\\xe6&S\\xf4\\x1fE\\xc2\\xa7\\x9b\\x06\\xbb\\x87?\\'m\\xaa\\xaf\\xff\\x00\\x15{F|@/\\x18\\xe6\\xd7\\xca1;\\xac\\xd0z\\xfe\\xe8C\\xfdJHs\\xa4\\xd7#\\x84V_p\\xf8\\x971\\xce\\xa7]\\x8e\\x11Y>o\\xf8\\x96\\x80:\\xc8\\xf4g\\xf6\\xb6\\xfc\\x8b\\x8d\\x1f5}}RG\\x97\\x16\\x8a x\\x99\\xab\\xc1\\xc7\\xb1\\xa0\\xab\\xad\\x8b\\x9a\\t\\xdbc\\xf5F\\xa9\\x8c3\\xf1\\xe1\\xb7S\\x97;\\xd8\\xf7\\xe0\\x0f\\tT\\xe1\\xce\\xb7^\\x0e\\x11Y>o\\xf8\\x971\\xce\\xc3^\\x8f\\xc9X\\xfeo\\xf8\\x96\\t\\x19\\xad\\xbc`\\x16\\x8f\\xa7\\xe4\\x14\\xf2-\\xac\\xd1\\xba\\x06\\xc1\\xa0mn\\xb7\\xe9z/\\x93E!\\x0e\\x9eY\\x1f\\xb7,\\xce\\x1c\\x0b\\xdd\\xfc\\x86\\x00Vh`\\x0e\\x9a1\\x8e.\\x03\\xe9Z]\\xfd\\xec\\xb5\\xf7\\xe8\\xac\\x7f7|K\\x9b9\\xdb\\xf2\\x81\\x1b\\x9a\\xe6\\xc5b\\xcbH#\\xfd\\x1d\\xf1(\\x194\\x1dFW\\x17<\\x82O\\xcf\\xf0\\xb2\\x07\\xb4/\\x06\\xb4\\x9b\\xe5:\\xcfR\\xcb\\xc7n\\xebRx\\x7f\\xcc#\\xf9-\\xb3\\xe4\\xc9\\xa2NM\\xb4\\x8b\\x87\\xfc.!\\xed\\x19\\x0bM%\\xab\\x9a\\xbei+*\\xcb]QT\\xf7O1h\\xc0\\xdby\\xda8\\x1dC%Xh\\xf9\\xc9kM\\x1dGO`\\xb5Ghu\\r\\xb61\\x0c\\x06j\\x1d\\xb7\\xecq\\x19;[\\xce\\xf5\\xd1;M\\xa6\\xcfkM\\xaf\\x14x\\xcbq\\xc7\\xfe\\xb8P\\x1at\\x83\\xbcH}\\xfe\\xebt\\x9d\\x0bHs^\\xc6\\xbd\\x8e\\x05\\xaek\\x86C\\x81\\xdcA\\x1dc\\x0b\\x05\\xeb\\x0ej\\xdaV\\xfdS5^\\x9b\\xaf\\xa8\\xd3S\\xc8K\\x8c\\x021=0\\'\\xf3[\\x90\\xe6\\x8fFH\\x1dAbo\\xefk\\xaf\\xff\\x00Eb\\xf9\\xbb\\xe2_\\x0f;=|\\x7f%c\\xf9\\xbb\\xe2T*\\xdaF\\xabQ\\xdbP\\xbc\\x0f\\xdf\\xf0\\xa7\\x8b\\x9ax\\xafM\\xcf\\x9aF\\xb0\\xa6{\\xbe\\xe5\\xdd,\\x97\\x08\\x87\\x02j\\x1f\\x0b\\x8f\\xb1\\xcd\\xc7\\xd2\\xa0\\'\\xe6\\xc7\\xca4.\\xc3-t\\x93\\x0f\\xce\\x8e\\xe1\\x0e>\\x97\\x05(y\\xd8\\xeb\\xe3\\xf9+\\x1f\\xcd\\xff\\x00\\x12\\xe2y\\xd6\\xeb\\xc3\\xc6+\\x1f\\xcd\\xff\\x00\\x12\\x9bg\\x8d4o\\xd8+\\xc7\\x91GA\\xcd\\x97\\x949]\\x89m\\xf4T\\xc3\\xf3\\xa5\\xb8E\\x8f\\xa0\\x95?k\\xe6\\xa3\\xa8\\xa4{]y\\xbe\\xda\\xad\\xed\\x07?x/\\xa8p\\xf6\\x00\\x07\\xd2\\xa3\\x8f:\\x9dvx\\xc5d\\xf9\\xbf\\xe2\\\\O:]rx\\xc5e\\xf7\\x0f\\x89\\x1c5\\xa7p\\xd8\\t\\xe4^^X\\xf95\\xaa\\xd12\\xd0\\x98\\xea\\xe5\\xb8S\\xf9\\x1f)\\rY\\x8cF\\\\\\xe1\\x8f(\\xd2\\x01\\xdcA\\xc1\\xf5-\\x8b\\xd1w\\xe1\\x7f\\xb5\\xc7\\x1dK\\xf6\\xab\\xa0\\x89\\x85\\xc4\\xf1\\x91\\x84\\x0c;\\xd7\\xd4V\\xb8\\xdcyh\\xd4|\\xa2\\xd3}\\xc7\\xd40\\xda\\xcd >]\\xae\\x86\\x8fa\\xedp\\xdd\\xb9\\xd9\\xdd\\x90p}\\n\\xd9g\\xd53\\xdals]\\xedNdU\\xb6\\xdaW\\xe1\\xaen\\xd3r\\xd6\\xee\\x04u\\xb4\\xee\\xdc\\xb6u:v\\xaeP\\x8ai\\xbfX8$\\x7fG\\xf7\\xe0V\\xa4/dR\\x98G\\x0e!g\\xf9!\\xf4/+\\xe1\\xf4-a<\\xe5\\xf5\\xa9\\xe3\\x1d\\x9f\\xdc~%\\xc0\\xf3\\x91\\xd6G\\x8cv\\x8fq\\xf8\\x95thw\\x07\\xb7\\xf3\\xf8[\\xdbal&\\xa2\\xd2\\xd6\\x8dQF)/\\xf4\\x11V\\xc4\\xdc\\x96\\x17y\\xaf\\x8c\\x9e\\xb6\\xb8o\\x0b\\x15]\\xf9\\xbaY\\xa7{\\xdff\\xbcU\\xd0g\\x84s\\xc4&h\\xf6\\x82\\xd2\\xa9\\x87\\x9cn\\xb1?\\x93\\xb4\\xfb\\x97\\xc4\\xb8;\\x9c>\\xafw\\x18\\xed^\\xe5\\xf6\\xad\\xf8(\\xeaU\\xc6\\x18\\xe0\\x07\\xd7\\xf0\\xbc\\x974\\xafUo7k\\xe4D\\xfc\\x82\\xedl\\xaa\\x1f\\xae_\\x11\\xff\\x00\\xd4\\xa8\\xb7r\\x1b\\xac\\xa8\\xe4k\\xe9\\xdbD\\xf7\\xb4\\xe4:*\\xc6\\x8c~\\xdc.\\xf3\\xce\\x0bV\\x9e1\\xda\\xbd\\xcf\\xed]g\\x97\\xddV\\xee1\\xda\\xfd\\xcf\\xedRm\\xf1F\\xfa\\xb5y;\\x05J3D\\xea\\xbaZY$\\xba\\xda\\x7f\\xc1n\\\\\\xf8gc\\xf6\\x87n\\xc89P\\xc0\\x822\\x0eB\\xe7\\xfd\\xbc\\xea\\xac\\xe42\\xd8\\x08\\xff\\x00\\xa4\\xfbW\\\\w\\xba\\x8dF\\xd7\\\\\\xeb\\xa1\\xa6\\x82y\\x9cv\\x9bM\\x17\\x93i\\xc7^3\\xc4\\xab\\xa6\\x8fz\\xe4\\xc4\\xc5d\\x0f\\x91\\x1f\\xedW\\xaf\\xd4\\x8e!\\xf1\\x19\\xbb\\xe4\\xb9\"\"\\xb3\\xa8T_F\\xe2\\xbe\"\"\\x80:N\\x9c\\xb8\\x9f\\x94\\xca2s\\xf8\\x01|\\xe8\\x8d7z\\x97\\xc0\\x15\\x81\\x16\\x87p\\xac\\x7f\\xe3\\xd5n\\xf7\\xdb\\x1c\\xdd\\x15\\x7f\\xa24\\xdd\\xea_\\x00N\\x88\\xd3w\\xa9|\\x01X\\x11<>\\xb7/T\\xef\\xb69\\xba*\\xff\\x00Di\\xbb\\xd4\\xbe\\x00\\x9d\\x11\\xa6\\xefR\\xf8\\x02\\xb0\"x}n^\\xa9\\xdflstU\\xfe\\x88\\xd3w\\xa9|\\x01N\\xda\\x98\\xebE\\xa6\\xa2\\xdbO+\\x9f\\x05D\\xed\\x9aBF\\t\\xc0\\xc0\\x1e\\xae\\xb5\\xcd\\x17\\xd6\\xd1\\xac\\xd7\\x07\\x06\\xef\\x0b\\xcb\\xaeN\\xf6\\x96\\x97n+\\xc9r\\xb7\\xb2\\xe7N\\xd8d{\\xa3\\x01\\xfbYh\\xc9Q]\\x11\\xa6\\xefR\\xf8\\x02\\xb0\"\\xf7%Hfv\\xd3\\xdb\\x92\\xbc\\xc7fh\\x9b\\xb2\\xc7`*\\xff\\x00Di\\xbb\\xd4\\xbe\\x00\\x9d\\x11\\xa6\\xefR\\xf8\\x02\\xb0\"\\xc7\\xe1\\xf5yz\\xac\\x9d\\xf6\\xc77E_\\xe8\\x8d7z\\x97\\xc0\\x13\\xa24\\xfd\\xea_\\x00V\\x04O\\x0f\\xad\\xcb\\xd5;\\xed\\x8en\\x8a\\xbf\\xd1\\x1an\\xf5/\\x80\\'Di\\xfb\\xd4\\xbe\\x00\\xac\\x08\\x9e\\x1f[\\x97\\xaaw\\xdb\\x1c\\xdd\\x11\\xa3e\\xadh\\xe0\\xd0\\x07\\xecP\\xf5\\xdav\\x1a\\xfa\\xa9*$\\xa8\\x91\\x8ey\\x1b\\x83F\\x06\\xe50\\x8bfHc\\x99\\xbb/\\x19\\x0b\\x04s>\\'m0\\xe0\\xaa\\xff\\x00Di\\xbb\\xd4\\xbe\\x00\\x9d\\x11\\xa6\\xefR\\xf8\\x02\\xb0\"\\xd6\\xf0\\xfa\\xdc\\xbdV~\\xfbc\\x9b\\xa2\\xaf\\xf4F\\x9b\\xbdK\\xe0\\t\\xd1\\x1an\\xf5/\\x80+\\x02\\'\\x87\\xd6\\xe5\\xea\\x9d\\xf6\\xc77E_\\xe8\\x8d7z\\x97\\xc0\\x13\\xa24\\xdd\\xea_\\x00V\\x04O\\x0f\\xad\\xcb\\xd5;\\xed\\x8en\\x8a.\\xdbb\\x8a\\xd9Pf\\x8ag\\xc8K\\x0bp\\xe6\\x81\\xc5L\\t\\xa4m-m;\\x1d\\xb3\\x1dd\\x0e\\x86OQ\\xeb\\xf5\\x85\\xd6\\x8b0\\xad\\x08\\x8c\\xc5\\xb3\\xe5>\\x8b\\t\\x9eR\\xff\\x00\\x88N\\xf5_\\xe8\\x8d7z\\x97\\xc0\\x13\\xa24\\xdd\\xea_\\x00V\\x04X|>\\xaf/U\\x9b\\xbe\\xd8\\xe6\\xe8\\xab\\xfd\\x11\\xa6\\xefR\\xf8\\x02tF\\x9b\\xbdK\\xe0\\n\\xc0\\x89\\xe1\\xf5\\xb9z\\xa7}\\xb1\\xcd\\xd1W\\xfa#M\\xde\\xa5\\xf0\\x04\\xe8\\x8d7z\\x97\\xc0\\x15\\x81\\x13\\xc3\\xebr\\xf5N\\xfbc\\x9b\\xa2\\xaf\\xf4F\\x9f\\xbdK\\xe0\\nf\\x8a\\x91\\xb44\\xb1\\xd3\\xc6\\xe2\\xf6\\xb3;\\xc8\\xc199]\\xe8\\xb3EV\\x18\\x1d\\xb4\\xc6\\xe0\\xacrY\\x96Q\\xb2\\xf3\\x94DE\\xb2\\xb5\\x91\\x11\\x11\\x11\\x11\\x11\\x11\\x11\\x11\\x11\\x11\\x11\\x11\\x11\\x11\\x11\\x11\\x11\\x11\\x11\\x11\\x11\\x11\\x11\\x11\\x11\\x11\\x11\\x11\\x11\\x11\\x11\\x11\\x11\\x11\\x11\\x11\\x11\\x11\\x11\\x11\\x11\\x11\\x11\\x11\\x11\\x11\\x11\\x11\\x11\\x11\\x11\\x11\\x11\\x11\\x11\\x11\\x17\\xff\\xd9'"
      ]
     },
     "metadata": {},
     "execution_count": 32
    }
   ],
   "source": [
    "image_link.content"
   ]
  },
  {
   "cell_type": "code",
   "execution_count": 33,
   "metadata": {},
   "outputs": [],
   "source": [
    "\n",
    "f = open('my_balls_image.jpg','wb')"
   ]
  },
  {
   "cell_type": "code",
   "execution_count": 34,
   "metadata": {},
   "outputs": [
    {
     "output_type": "execute_result",
     "data": {
      "text/plain": [
       "5090"
      ]
     },
     "metadata": {},
     "execution_count": 34
    }
   ],
   "source": [
    "f.write(image_link.content)"
   ]
  },
  {
   "cell_type": "code",
   "execution_count": 35,
   "metadata": {},
   "outputs": [],
   "source": [
    "f.close()"
   ]
  },
  {
   "cell_type": "code",
   "execution_count": 36,
   "metadata": {},
   "outputs": [],
   "source": [
    "# Goal - get the title of every book with a 2 star rating"
   ]
  },
  {
   "cell_type": "code",
   "execution_count": 37,
   "metadata": {},
   "outputs": [],
   "source": [
    "import requests\n",
    "import bs4"
   ]
  },
  {
   "cell_type": "code",
   "execution_count": 39,
   "metadata": {},
   "outputs": [
    {
     "output_type": "execute_result",
     "data": {
      "text/plain": [
       "'https://books.toscrape.com/catalogue/page-1.html'"
      ]
     },
     "metadata": {},
     "execution_count": 39
    }
   ],
   "source": [
    "'https://books.toscrape.com/catalogue/page-1.html'"
   ]
  },
  {
   "cell_type": "code",
   "execution_count": 40,
   "metadata": {},
   "outputs": [],
   "source": [
    "base_url = 'https://books.toscrape.com/catalogue/page-{}.html'"
   ]
  },
  {
   "cell_type": "code",
   "execution_count": 42,
   "metadata": {},
   "outputs": [
    {
     "output_type": "execute_result",
     "data": {
      "text/plain": [
       "'https://books.toscrape.com/catalogue/page-12.html'"
      ]
     },
     "metadata": {},
     "execution_count": 42
    }
   ],
   "source": [
    "page_num = 12\n",
    "base_url.format(12)"
   ]
  },
  {
   "cell_type": "code",
   "execution_count": 44,
   "metadata": {},
   "outputs": [],
   "source": [
    "res = requests.get(base_url.format(1))"
   ]
  },
  {
   "cell_type": "code",
   "execution_count": 45,
   "metadata": {},
   "outputs": [],
   "source": [
    "soup = bs4.BeautifulSoup(res.text, 'lxml')"
   ]
  },
  {
   "cell_type": "code",
   "execution_count": 48,
   "metadata": {},
   "outputs": [
    {
     "output_type": "execute_result",
     "data": {
      "text/plain": [
       "20"
      ]
     },
     "metadata": {},
     "execution_count": 48
    }
   ],
   "source": [
    "len(soup.select(\".product_pod\"))"
   ]
  },
  {
   "cell_type": "code",
   "execution_count": 49,
   "metadata": {},
   "outputs": [],
   "source": [
    "products = soup.select(\".product_pod\")"
   ]
  },
  {
   "cell_type": "code",
   "execution_count": 50,
   "metadata": {},
   "outputs": [],
   "source": [
    "example = products[0]"
   ]
  },
  {
   "cell_type": "code",
   "execution_count": 53,
   "metadata": {},
   "outputs": [
    {
     "output_type": "execute_result",
     "data": {
      "text/plain": [
       "True"
      ]
     },
     "metadata": {},
     "execution_count": 53
    }
   ],
   "source": [
    "'star-rating Three' in str(example)"
   ]
  },
  {
   "cell_type": "code",
   "execution_count": 54,
   "metadata": {},
   "outputs": [
    {
     "output_type": "execute_result",
     "data": {
      "text/plain": [
       "[<p class=\"star-rating Three\">\n",
       " <i class=\"icon-star\"></i>\n",
       " <i class=\"icon-star\"></i>\n",
       " <i class=\"icon-star\"></i>\n",
       " <i class=\"icon-star\"></i>\n",
       " <i class=\"icon-star\"></i>\n",
       " </p>]"
      ]
     },
     "metadata": {},
     "execution_count": 54
    }
   ],
   "source": [
    "example.select(\".star-rating.Three\")"
   ]
  },
  {
   "cell_type": "code",
   "execution_count": 55,
   "metadata": {},
   "outputs": [
    {
     "output_type": "execute_result",
     "data": {
      "text/plain": [
       "[]"
      ]
     },
     "metadata": {},
     "execution_count": 55
    }
   ],
   "source": [
    "example.select(\".star-rating.Two\")"
   ]
  },
  {
   "cell_type": "code",
   "execution_count": 56,
   "metadata": {},
   "outputs": [
    {
     "output_type": "execute_result",
     "data": {
      "text/plain": [
       "True"
      ]
     },
     "metadata": {},
     "execution_count": 56
    }
   ],
   "source": [
    "[] == example.select(\".star-rating.Two\")"
   ]
  },
  {
   "cell_type": "code",
   "execution_count": 57,
   "metadata": {},
   "outputs": [
    {
     "output_type": "execute_result",
     "data": {
      "text/plain": [
       "<article class=\"product_pod\">\n",
       "<div class=\"image_container\">\n",
       "<a href=\"a-light-in-the-attic_1000/index.html\"><img alt=\"A Light in the Attic\" class=\"thumbnail\" src=\"../media/cache/2c/da/2cdad67c44b002e7ead0cc35693c0e8b.jpg\"/></a>\n",
       "</div>\n",
       "<p class=\"star-rating Three\">\n",
       "<i class=\"icon-star\"></i>\n",
       "<i class=\"icon-star\"></i>\n",
       "<i class=\"icon-star\"></i>\n",
       "<i class=\"icon-star\"></i>\n",
       "<i class=\"icon-star\"></i>\n",
       "</p>\n",
       "<h3><a href=\"a-light-in-the-attic_1000/index.html\" title=\"A Light in the Attic\">A Light in the ...</a></h3>\n",
       "<div class=\"product_price\">\n",
       "<p class=\"price_color\">Â£51.77</p>\n",
       "<p class=\"instock availability\">\n",
       "<i class=\"icon-ok\"></i>\n",
       "    \n",
       "        In stock\n",
       "    \n",
       "</p>\n",
       "<form>\n",
       "<button class=\"btn btn-primary btn-block\" data-loading-text=\"Adding...\" type=\"submit\">Add to basket</button>\n",
       "</form>\n",
       "</div>\n",
       "</article>"
      ]
     },
     "metadata": {},
     "execution_count": 57
    }
   ],
   "source": [
    "example"
   ]
  },
  {
   "cell_type": "code",
   "execution_count": 61,
   "metadata": {},
   "outputs": [
    {
     "output_type": "execute_result",
     "data": {
      "text/plain": [
       "'A Light in the Attic'"
      ]
     },
     "metadata": {},
     "execution_count": 61
    }
   ],
   "source": [
    "example.select('a')[1]['title']"
   ]
  },
  {
   "cell_type": "code",
   "execution_count": 62,
   "metadata": {},
   "outputs": [],
   "source": [
    "# Check if something is two stars"
   ]
  },
  {
   "cell_type": "code",
   "execution_count": 68,
   "metadata": {},
   "outputs": [],
   "source": [
    "two_star_titles = []\n",
    "\n",
    "for n in range(1,51):\n",
    "\n",
    "    scrape_url = base_url.format(n)\n",
    "    res = requests.get(scrape_url)\n",
    "\n",
    "    soup = bs4.BeautifulSoup(res.text,'lxml')\n",
    "    books = soup.select(\".product_pod\")\n",
    "\n",
    "    for book in books:\n",
    "        \n",
    "        if len(book.select('.star_rating.Two')) != 0:\n",
    "            book_title = book.select('a')[1]['title']\n",
    "            two_star_titles.append(book_title)"
   ]
  },
  {
   "cell_type": "code",
   "execution_count": 69,
   "metadata": {},
   "outputs": [
    {
     "output_type": "stream",
     "name": "stdout",
     "text": [
      "[]\n"
     ]
    }
   ],
   "source": [
    "print(two_star_titles)"
   ]
  },
  {
   "cell_type": "code",
   "execution_count": null,
   "metadata": {},
   "outputs": [],
   "source": []
  }
 ]
}