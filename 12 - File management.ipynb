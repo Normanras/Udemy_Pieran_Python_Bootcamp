
pwd

f = open('practice.txt')