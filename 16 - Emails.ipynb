{
 "metadata": {
  "language_info": {
   "codemirror_mode": {
    "name": "ipython",
    "version": 3
   },
   "file_extension": ".py",
   "mimetype": "text/x-python",
   "name": "python",
   "nbconvert_exporter": "python",
   "pygments_lexer": "ipython3",
   "version": "3.8.5-final"
  },
  "orig_nbformat": 2,
  "kernelspec": {
   "name": "python3",
   "display_name": "Python 3",
   "language": "python"
  }
 },
 "nbformat": 4,
 "nbformat_minor": 2,
 "cells": [
  {
   "cell_type": "code",
   "execution_count": 16,
   "metadata": {},
   "outputs": [],
   "source": [
    "import smtplib"
   ]
  },
  {
   "cell_type": "code",
   "execution_count": 17,
   "metadata": {},
   "outputs": [],
   "source": [
    "smtp_object = smtplib.SMTP('smtp.gmail.com',587)"
   ]
  },
  {
   "cell_type": "code",
   "execution_count": 18,
   "metadata": {},
   "outputs": [
    {
     "output_type": "execute_result",
     "data": {
      "text/plain": [
       "(250,\n",
       " b'smtp.gmail.com at your service, [74.105.45.137]\\nSIZE 35882577\\n8BITMIME\\nSTARTTLS\\nENHANCEDSTATUSCODES\\nPIPELINING\\nCHUNKING\\nSMTPUTF8')"
      ]
     },
     "metadata": {},
     "execution_count": 18
    }
   ],
   "source": [
    "smtp_object.ehlo()"
   ]
  },
  {
   "cell_type": "code",
   "execution_count": 19,
   "metadata": {},
   "outputs": [
    {
     "output_type": "execute_result",
     "data": {
      "text/plain": [
       "(220, b'2.0.0 Ready to start TLS')"
      ]
     },
     "metadata": {},
     "execution_count": 19
    }
   ],
   "source": [
    "smtp_object.starttls()"
   ]
  },
  {
   "cell_type": "code",
   "execution_count": 14,
   "metadata": {},
   "outputs": [],
   "source": [
    "password = input('What is your password?')"
   ]
  },
  {
   "cell_type": "code",
   "execution_count": 20,
   "metadata": {},
   "outputs": [],
   "source": [
    "import getpass"
   ]
  },
  {
   "cell_type": "code",
   "execution_count": 7,
   "metadata": {},
   "outputs": [],
   "source": [
    "password = getpass.getpass('Password Please!')"
   ]
  },
  {
   "cell_type": "code",
   "execution_count": 21,
   "metadata": {},
   "outputs": [
    {
     "output_type": "execute_result",
     "data": {
      "text/plain": [
       "(235, b'2.7.0 Accepted')"
      ]
     },
     "metadata": {},
     "execution_count": 21
    }
   ],
   "source": [
    "email = input(\"Email:\")\n",
    "password = getpass.getpass(\"Password:\")\n",
    "smtp_object.login(email, password)"
   ]
  },
  {
   "cell_type": "code",
   "execution_count": 22,
   "metadata": {},
   "outputs": [
    {
     "output_type": "execute_result",
     "data": {
      "text/plain": [
       "{}"
      ]
     },
     "metadata": {},
     "execution_count": 22
    }
   ],
   "source": [
    "from_address = email\n",
    "to_address = \"norman.rasmussen@me.com\"\n",
    "subject = input(\"Subject Line:\")\n",
    "message = input(\"Message Body:\")\n",
    "msg = \"Subject: \"+subject+'\\n'+message\n",
    "\n",
    "smtp_object.sendmail(from_address,to_address, msg)"
   ]
  },
  {
   "cell_type": "code",
   "execution_count": 23,
   "metadata": {},
   "outputs": [
    {
     "output_type": "execute_result",
     "data": {
      "text/plain": [
       "(221, b'2.0.0 closing connection f8sm4115282qth.6 - gsmtp')"
      ]
     },
     "metadata": {},
     "execution_count": 23
    }
   ],
   "source": [
    "smtp_object.quit()"
   ]
  },
  {
   "cell_type": "code",
   "execution_count": 24,
   "metadata": {},
   "outputs": [],
   "source": [
    "# Recieving Emails with Python"
   ]
  },
  {
   "cell_type": "code",
   "execution_count": 25,
   "metadata": {},
   "outputs": [],
   "source": [
    "import imaplib"
   ]
  },
  {
   "cell_type": "code",
   "execution_count": 26,
   "metadata": {},
   "outputs": [],
   "source": [
    "M = imaplib.IMAP4_SSL('imap.gmail.com')"
   ]
  },
  {
   "cell_type": "code",
   "execution_count": 27,
   "metadata": {},
   "outputs": [],
   "source": [
    "email = input(\"Email:\")\n",
    "password = getpass.getpass(\"Password:\")"
   ]
  },
  {
   "cell_type": "code",
   "execution_count": 28,
   "metadata": {},
   "outputs": [
    {
     "output_type": "execute_result",
     "data": {
      "text/plain": [
       "('OK', [b'norman.rasmussen@gmail.com authenticated (Success)'])"
      ]
     },
     "metadata": {},
     "execution_count": 28
    }
   ],
   "source": [
    "M.login(email,password)"
   ]
  },
  {
   "cell_type": "code",
   "execution_count": 29,
   "metadata": {},
   "outputs": [
    {
     "output_type": "execute_result",
     "data": {
      "text/plain": [
       "('OK',\n",
       " [b'(\\\\HasNoChildren) \"/\" \"Church\"',\n",
       "  b'(\\\\HasNoChildren) \"/\" \"Conversations\"',\n",
       "  b'(\\\\HasNoChildren) \"/\" \"Creativity\"',\n",
       "  b'(\\\\HasNoChildren) \"/\" \"Drafts\"',\n",
       "  b'(\\\\HasChildren) \"/\" \"Education\"',\n",
       "  b'(\\\\HasNoChildren) \"/\" \"Education/Hannah\"',\n",
       "  b'(\\\\HasNoChildren) \"/\" \"Elefther Family\"',\n",
       "  b'(\\\\HasChildren) \"/\" \"Friends\"',\n",
       "  b'(\\\\HasNoChildren) \"/\" \"Friends/DnD\"',\n",
       "  b'(\\\\HasNoChildren) \"/\" \"Friends/Jodi\"',\n",
       "  b'(\\\\HasNoChildren) \"/\" \"Friends/Louis\"',\n",
       "  b'(\\\\HasChildren) \"/\" \"Gig Opportunities\"',\n",
       "  b'(\\\\HasNoChildren) \"/\" \"Gig Opportunities/Access Fund\"',\n",
       "  b'(\\\\HasNoChildren) \"/\" \"Gig Opportunities/Solid Rock CFC\"',\n",
       "  b'(\\\\HasChildren) \"/\" \"Housing\"',\n",
       "  b'(\\\\HasNoChildren) \"/\" \"Housing/1034 Lafayette Ave Ext\"',\n",
       "  b'(\\\\HasNoChildren) \"/\" \"Housing/15N15th Street\"',\n",
       "  b'(\\\\HasNoChildren) \"/\" \"Housing/17 Overlook Terrace\"',\n",
       "  b'(\\\\HasNoChildren) \"/\" \"Housing/19 Capotlene\"',\n",
       "  b'(\\\\HasNoChildren) \"/\" \"Housing/44 Kenwood Rd\"',\n",
       "  b'(\\\\HasNoChildren) \"/\" \"Housing/61 McKinley\"',\n",
       "  b'(\\\\HasNoChildren) \"/\" \"Housing/75 Maitland\"',\n",
       "  b'(\\\\HasNoChildren) \"/\" \"INBOX\"',\n",
       "  b'(\\\\HasChildren) \"/\" \"Job Opportunities\"',\n",
       "  b'(\\\\HasNoChildren) \"/\" \"Job Opportunities/Almabase\"',\n",
       "  b'(\\\\HasNoChildren) \"/\" \"Job Opportunities/Community Access\"',\n",
       "  b'(\\\\HasNoChildren) \"/\" \"Job Opportunities/Covenant House\"',\n",
       "  b'(\\\\HasNoChildren) \"/\" \"Job Opportunities/Experience Camps\"',\n",
       "  b'(\\\\HasNoChildren) \"/\" \"Job Opportunities/Food Bank NYC\"',\n",
       "  b'(\\\\HasChildren) \"/\" \"Job Opportunities/Gipfel\"',\n",
       "  b'(\\\\HasChildren \\\\Noselect) \"/\" \"Job Opportunities/Gipfel/Athlete\"',\n",
       "  b'(\\\\HasNoChildren) \"/\" \"Job Opportunities/Gipfel/Athlete/Champions\"',\n",
       "  b'(\\\\HasNoChildren) \"/\" \"Job Opportunities/Girl Scouts of America\"',\n",
       "  b'(\\\\HasNoChildren) \"/\" \"Job Opportunities/Gravity Vault\"',\n",
       "  b'(\\\\HasNoChildren) \"/\" \"Job Opportunities/New City Kids\"',\n",
       "  b'(\\\\HasNoChildren) \"/\" \"Job Opportunities/New York City Relief\"',\n",
       "  b'(\\\\HasNoChildren) \"/\" \"Job Opportunities/Newark Academy\"',\n",
       "  b'(\\\\HasNoChildren) \"/\" \"Job Opportunities/Philadelphia Classical School\"',\n",
       "  b'(\\\\HasNoChildren) \"/\" \"Job Opportunities/SUNY New Paltz\"',\n",
       "  b'(\\\\HasNoChildren) \"/\" \"Job Opportunities/SchoolKeep\"',\n",
       "  b'(\\\\HasNoChildren) \"/\" \"Job Opportunities/Storm King School\"',\n",
       "  b'(\\\\HasNoChildren) \"/\" \"Job Opportunities/Turnaround for Children\"',\n",
       "  b'(\\\\HasNoChildren) \"/\" \"Links\"',\n",
       "  b'(\\\\HasNoChildren) \"/\" \"Medical\"',\n",
       "  b'(\\\\HasNoChildren) \"/\" \"Money\"',\n",
       "  b'(\\\\HasNoChildren) \"/\" \"NJ Climbers Coalition\"',\n",
       "  b'(\\\\HasNoChildren) \"/\" \"Notes\"',\n",
       "  b'(\\\\HasNoChildren) \"/\" \"Other\"',\n",
       "  b'(\\\\HasNoChildren) \"/\" \"Our Family\"',\n",
       "  b'(\\\\HasNoChildren) \"/\" \"Parenting\"',\n",
       "  b'(\\\\HasNoChildren) \"/\" \"Pictures\"',\n",
       "  b'(\\\\HasNoChildren) \"/\" \"Rakkup\"',\n",
       "  b'(\\\\HasNoChildren) \"/\" \"Rasmussen Family\"',\n",
       "  b'(\\\\HasNoChildren) \"/\" \"Recipes\"',\n",
       "  b'(\\\\HasNoChildren) \"/\" \"Sent Messages\"',\n",
       "  b'(\\\\HasChildren) \"/\" \"Sports\"',\n",
       "  b'(\\\\HasNoChildren) \"/\" \"Sports/Climbing\"',\n",
       "  b'(\\\\HasNoChildren) \"/\" \"Sports/Cycling\"',\n",
       "  b'(\\\\HasNoChildren) \"/\" \"Sports/Dance Team\"',\n",
       "  b'(\\\\HasNoChildren) \"/\" \"TVCC\"',\n",
       "  b'(\\\\HasNoChildren) \"/\" \"Travel\"',\n",
       "  b'(\\\\HasNoChildren) \"/\" \"Wedding\"',\n",
       "  b'(\\\\HasChildren \\\\Noselect) \"/\" \"[Gmail]\"',\n",
       "  b'(\\\\All \\\\HasNoChildren) \"/\" \"[Gmail]/All Mail\"',\n",
       "  b'(\\\\Drafts \\\\HasNoChildren) \"/\" \"[Gmail]/Drafts\"',\n",
       "  b'(\\\\HasNoChildren \\\\Important) \"/\" \"[Gmail]/Important\"',\n",
       "  b'(\\\\HasChildren \\\\Sent) \"/\" \"[Gmail]/Sent Mail\"',\n",
       "  b'(\\\\HasNoChildren) \"/\" \"[Gmail]/Sent Mail/Sent Mail\"',\n",
       "  b'(\\\\HasNoChildren \\\\Junk) \"/\" \"[Gmail]/Spam\"',\n",
       "  b'(\\\\Flagged \\\\HasNoChildren) \"/\" \"[Gmail]/Starred\"',\n",
       "  b'(\\\\HasNoChildren \\\\Trash) \"/\" \"[Gmail]/Trash\"',\n",
       "  b'(\\\\HasNoChildren) \"/\" \"[Gmail]Trash\"',\n",
       "  b'(\\\\HasChildren) \"/\" \"[Mailbox]\"',\n",
       "  b'(\\\\HasNoChildren) \"/\" \"[Mailbox]/Later\"',\n",
       "  b'(\\\\HasNoChildren) \"/\" \"[Mailbox]/To Buy\"',\n",
       "  b'(\\\\HasNoChildren) \"/\" \"[Mailbox]/To Read\"',\n",
       "  b'(\\\\HasNoChildren) \"/\" \"[Mailbox]/To Watch\"'])"
      ]
     },
     "metadata": {},
     "execution_count": 29
    }
   ],
   "source": [
    "M.list()"
   ]
  },
  {
   "cell_type": "code",
   "execution_count": 30,
   "metadata": {},
   "outputs": [
    {
     "output_type": "execute_result",
     "data": {
      "text/plain": [
       "('OK', [b'353'])"
      ]
     },
     "metadata": {},
     "execution_count": 30
    }
   ],
   "source": [
    "M.select('inbox')"
   ]
  },
  {
   "cell_type": "code",
   "execution_count": 47,
   "metadata": {},
   "outputs": [],
   "source": [
    "typ, data = M.search(None, 'SUBJECT \"Application to Talkdoc\"')"
   ]
  },
  {
   "cell_type": "code",
   "execution_count": 48,
   "metadata": {},
   "outputs": [
    {
     "output_type": "execute_result",
     "data": {
      "text/plain": [
       "'OK'"
      ]
     },
     "metadata": {},
     "execution_count": 48
    }
   ],
   "source": [
    "typ"
   ]
  },
  {
   "cell_type": "code",
   "execution_count": 49,
   "metadata": {},
   "outputs": [
    {
     "output_type": "execute_result",
     "data": {
      "text/plain": [
       "b'350'"
      ]
     },
     "metadata": {},
     "execution_count": 49
    }
   ],
   "source": [
    "data[0]"
   ]
  },
  {
   "cell_type": "code",
   "execution_count": 50,
   "metadata": {},
   "outputs": [],
   "source": [
    "email_id = data[0]"
   ]
  },
  {
   "cell_type": "code",
   "execution_count": 51,
   "metadata": {},
   "outputs": [],
   "source": [
    "result , email_data = M.fetch(email_id, '(RFC822)')"
   ]
  },
  {
   "cell_type": "code",
   "execution_count": 52,
   "metadata": {},
   "outputs": [
    {
     "output_type": "execute_result",
     "data": {
      "text/plain": [
       "arge-4 columns =\\r\\nfirst\" style=3D\\'word-wrap: break-word; -webkit-hyphens: auto; -ms-hyphens: =\\r\\nauto; hyphens: auto; border-collapse: collapse !important; width: 33.333333=\\r\\n%; color: #050c26; font-family: Helvetica, \"Helvetica Neue\", Arial, sans-se=\\r\\nrif; font-weight: normal; line-height: 1.5; font-size: 16px; margin: 0 auto=\\r\\n; padding: 0;\\' align=3D\"left\" valign=3D\"top\"><table style=3D\"border-spacing=\\r\\n: 0; border-collapse: collapse; vertical-align: top; text-align: left; widt=\\r\\nh: 100%; padding: 0;\"><tr style=3D\"vertical-align: top; padding: 0;\" align=\\r\\n=3D\"left\"><th style=3D\\'word-wrap: break-word; -webkit-hyphens: auto; -ms-hy=\\r\\nphens: auto; hyphens: auto; border-collapse: collapse !important; color: #0=\\r\\n50c26; font-family: Helvetica, \"Helvetica Neue\", Arial, sans-serif; font-we=\\r\\night: normal; line-height: 1.5; font-size: 16px; margin: 0; padding: 0;\\' al=\\r\\nign=3D\"left\" valign=3D\"top\"> <span class=3D\"color--slate-500\" style=3D\"colo=\\r\\nr: #7b91b1;\"> Location </span> </th></tr></table></th> <th class=3D\"small-1=\\r\\n2 large-8 columns last\" style=3D\\'word-wrap: break-word; -webkit-hyphens: au=\\r\\nto; -ms-hyphens: auto; hyphens: auto; border-collapse: collapse !important;=\\r\\n width: 66.666666%; color: #050c26; font-family: Helvetica, \"Helvetica Neue=\\r\\n\", Arial, sans-serif; font-weight: normal; line-height: 1.5; font-size: 16p=\\r\\nx; margin: 0 auto; padding: 0;\\' align=3D\"left\" valign=3D\"top\"><table style=\\r\\n=3D\"border-spacing: 0; border-collapse: collapse; vertical-align: top; text=\\r\\n-align: left; width: 100%; padding: 0;\"><tr style=3D\"vertical-align: top; p=\\r\\nadding: 0;\" align=3D\"left\"><th style=3D\\'word-wrap: break-word; -webkit-hyph=\\r\\nens: auto; -ms-hyphens: auto; hyphens: auto; border-collapse: collapse !imp=\\r\\nortant; color: #050c26; font-family: Helvetica, \"Helvetica Neue\", Arial, sa=\\r\\nns-serif; font-weight: normal; line-height: 1.5; font-size: 16px; margin: 0=\\r\\n; padding: 0;\\' align=3D\"left\" valign=3D\"top\"> San Francisco </th></tr></tab=\\r\\nle></th> </tr></tbody></table> <table class=3D\"spacer \" style=3D\"border-spa=\\r\\ncing: 0; border-collapse: collapse; vertical-align: top; text-align: left; =\\r\\nwidth: 100%; padding: 0;\"><tbody><tr style=3D\"vertical-align: top; padding:=\\r\\n 0;\" align=3D\"left\"><td height=3D\"8\" style=3D\\'font-size: 8px; line-height: =\\r\\n8px; word-wrap: break-word; -webkit-hyphens: auto; -ms-hyphens: auto; hyphe=\\r\\nns: auto; border-collapse: collapse !important; mso-line-height-rule: exact=\\r\\nly; color: #050c26; font-family: Helvetica, \"Helvetica Neue\", Arial, sans-s=\\r\\nerif; font-weight: normal; -moz-hyphens: auto; margin: 0; padding: 0;\\' alig=\\r\\nn=3D\"left\" valign=3D\"top\">=C2=A0</td></tr></tbody></table> <table class=3D\"=\\r\\ncollapse-vertical row\" style=3D\"-webkit-font-smoothing: antialiased; border=\\r\\n-spacing: 0; border-collapse: collapse; vertical-align: top; text-align: le=\\r\\nft; position: relative; width: 100%; display: table; padding: 0;\"><tbody><t=\\r\\nr style=3D\"vertical-align: top; padding: 0;\" align=3D\"left\"> <th class=3D\"s=\\r\\nmall-12 large-4 columns first\" style=3D\\'word-wrap: break-word; -webkit-hyph=\\r\\nens: auto; -ms-hyphens: auto; hyphens: auto; border-collapse: collapse !imp=\\r\\nortant; width: 33.333333%; color: #050c26; font-family: Helvetica, \"Helveti=\\r\\nca Neue\", Arial, sans-serif; font-weight: normal; line-height: 1.5; font-si=\\r\\nze: 16px; margin: 0 auto; padding: 0;\\' align=3D\"left\" valign=3D\"top\"><table=\\r\\n style=3D\"border-spacing: 0; border-collapse: collapse; vertical-align: top=\\r\\n; text-align: left; width: 100%; padding: 0;\"><tr style=3D\"vertical-align: =\\r\\ntop; padding: 0;\" align=3D\"left\"><th style=3D\\'word-wrap: break-word; -webki=\\r\\nt-hyphens: auto; -ms-hyphens: auto; hyphens: auto; border-collapse: collaps=\\r\\ne !important; color: #050c26; font-family: Helvetica, \"Helvetica Neue\", Ari=\\r\\nal, sans-serif; font-weight: normal; line-height: 1.5; font-size: 16px; mar=\\r\\ngin: 0; padding: 0;\\' align=3D\"left\" valign=3D\"top\"> <span class=3D\"color--s=\\r\\nlate-500\" style=3D\"color: #7b91b1;\"> Founders </span> </th></tr></table></t=\\r\\nh> <th class=3D\"small-12 large-8 columns last\" style=3D\\'word-wrap: break-wo=\\r\\nrd; -webkit-hyphens: auto; -ms-hyphens: auto; hyphens: auto; border-collaps=\\r\\ne: collapse !important; width: 66.666666%; color: #050c26; font-family: Hel=\\r\\nvetica, \"Helvetica Neue\", Arial, sans-serif; font-weight: normal; line-heig=\\r\\nht: 1.5; font-size: 16px; margin: 0 auto; padding: 0;\\' align=3D\"left\" valig=\\r\\nn=3D\"top\"><table style=3D\"border-spacing: 0; border-collapse: collapse; ver=\\r\\ntical-align: top; text-align: left; width: 100%; padding: 0;\"><tr style=3D\"=\\r\\nvertical-align: top; padding: 0;\" align=3D\"left\"><th style=3D\\'word-wrap: br=\\r\\neak-word; -webkit-hyphens: auto; -ms-hyphens: auto; hyphens: auto; border-c=\\r\\nollapse: collapse !important; color: #050c26; font-family: Helvetica, \"Helv=\\r\\netica Neue\", Arial, sans-serif; font-weight: normal; line-height: 1.5; font=\\r\\n-size: 16px; margin: 0; padding: 0;\\' align=3D\"left\" valign=3D\"top\"> <span>R=\\r\\nishi Sachdev</span> </th></tr></table></th> </tr></tbody></table> <table cl=\\r\\nass=3D\"spacer \" style=3D\"border-spacing: 0; border-collapse: collapse; vert=\\r\\nical-align: top; text-align: left; width: 100%; padding: 0;\"><tbody><tr sty=\\r\\nle=3D\"vertical-align: top; padding: 0;\" align=3D\"left\"><td height=3D\"8\" sty=\\r\\nle=3D\\'font-size: 8px; line-height: 8px; word-wrap: break-word; -webkit-hyph=\\r\\nens: auto; -ms-hyphens: auto; hyphens: auto; border-collapse: collapse !imp=\\r\\nortant; mso-line-height-rule: exactly; color: #050c26; font-family: Helveti=\\r\\nca, \"Helvetica Neue\", Arial, sans-serif; font-weight: normal; -moz-hyphens:=\\r\\n auto; margin: 0; padding: 0;\\' align=3D\"left\" valign=3D\"top\">=C2=A0</td></t=\\r\\nr></tbody></table> <table class=3D\"collapse-vertical row\" style=3D\"-webkit-=\\r\\nfont-smoothing: antialiased; border-spacing: 0; border-collapse: collapse; =\\r\\nvertical-align: top; text-align: left; position: relative; width: 100%; dis=\\r\\nplay: table; padding: 0;\"><tbody><tr style=3D\"vertical-align: top; padding:=\\r\\n 0;\" align=3D\"left\"> <th class=3D\"small-12 large-4 columns first\" style=3D\\'=\\r\\nword-wrap: break-word; -webkit-hyphens: auto; -ms-hyphens: auto; hyphens: a=\\r\\nuto; border-collapse: collapse !important; width: 33.333333%; color: #050c2=\\r\\n6; font-family: Helvetica, \"Helvetica Neue\", Arial, sans-serif; font-weight=\\r\\n: normal; line-height: 1.5; font-size: 16px; margin: 0 auto; padding: 0;\\' a=\\r\\nlign=3D\"left\" valign=3D\"top\"><table style=3D\"border-spacing: 0; border-coll=\\r\\napse: collapse; vertical-align: top; text-align: left; width: 100%; padding=\\r\\n: 0;\"><tr style=3D\"vertical-align: top; padding: 0;\" align=3D\"left\"><th sty=\\r\\nle=3D\\'word-wrap: break-word; -webkit-hyphens: auto; -ms-hyphens: auto; hyph=\\r\\nens: auto; border-collapse: collapse !important; color: #050c26; font-famil=\\r\\ny: Helvetica, \"Helvetica Neue\", Arial, sans-serif; font-weight: normal; lin=\\r\\ne-height: 1.5; font-size: 16px; margin: 0; padding: 0;\\' align=3D\"left\" vali=\\r\\ngn=3D\"top\"> <span class=3D\"color--slate-500\" style=3D\"color: #7b91b1;\"> Com=\\r\\npany size </span> </th></tr></table></th> <th class=3D\"small-12 large-8 col=\\r\\numns last\" style=3D\\'word-wrap: break-word; -webkit-hyphens: auto; -ms-hyphe=\\r\\nns: auto; hyphens: auto; border-collapse: collapse !important; width: 66.66=\\r\\n6666%; color: #050c26; font-family: Helvetica, \"Helvetica Neue\", Arial, san=\\r\\ns-serif; font-weight: normal; line-height: 1.5; font-size: 16px; margin: 0 =\\r\\nauto; padding: 0;\\' align=3D\"left\" valign=3D\"top\"><table style=3D\"border-spa=\\r\\ncing: 0; border-collapse: collapse; vertical-align: top; text-align: left; =\\r\\nwidth: 100%; padding: 0;\"><tr style=3D\"vertical-align: top; padding: 0;\" al=\\r\\nign=3D\"left\"><th style=3D\\'word-wrap: break-word; -webkit-hyphens: auto; -ms=\\r\\n-hyphens: auto; hyphens: auto; border-collapse: collapse !important; color:=\\r\\n #050c26; font-family: Helvetica, \"Helvetica Neue\", Arial, sans-serif; font=\\r\\n-weight: normal; line-height: 1.5; font-size: 16px; margin: 0; padding: 0;\\'=\\r\\n align=3D\"left\" valign=3D\"top\"> 1-10 </th></tr></table></th> </tr></tbody><=\\r\\n/table> <table class=3D\"spacer \" style=3D\"border-spacing: 0; border-collaps=\\r\\ne: collapse; vertical-align: top; text-align: left; width: 100%; padding: 0=\\r\\n;\"><tbody><tr style=3D\"vertical-align: top; padding: 0;\" align=3D\"left\"><td=\\r\\n height=3D\"8\" style=3D\\'font-size: 8px; line-height: 8px; word-wrap: break-w=\\r\\nord; -webkit-hyphens: auto; -ms-hyphens: auto; hyphens: auto; border-collap=\\r\\nse: collapse !important; mso-line-height-rule: exactly; color: #050c26; fon=\\r\\nt-family: Helvetica, \"Helvetica Neue\", Arial, sans-serif; font-weight: norm=\\r\\nal; -moz-hyphens: auto; margin: 0; padding: 0;\\' align=3D\"left\" valign=3D\"to=\\r\\np\">=C2=A0</td></tr></tbody></table> <table class=3D\"collapse-vertical row\" =\\r\\nstyle=3D\"-webkit-font-smoothing: antialiased; border-spacing: 0; border-col=\\r\\nlapse: collapse; vertical-align: top; text-align: left; position: relative;=\\r\\n width: 100%; display: table; padding: 0;\"><tbody><tr style=3D\"vertical-ali=\\r\\ngn: top; padding: 0;\" align=3D\"left\"> <th class=3D\"small-12 large-12 column=\\r\\ns first last\" style=3D\\'word-wrap: break-word; -webkit-hyphens: auto; -ms-hy=\\r\\nphens: auto; hyphens: auto; border-collapse: collapse !important; width: 10=\\r\\n0%; color: #050c26; font-family: Helvetica, \"Helvetica Neue\", Arial, sans-s=\\r\\nerif; font-weight: normal; line-height: 1.5; font-size: 16px; margin: 0 aut=\\r\\no; padding: 0;\\' align=3D\"left\" valign=3D\"top\"><table style=3D\"border-spacin=\\r\\ng: 0; border-collapse: collapse; vertical-align: top; text-align: left; wid=\\r\\nth: 100%; padding: 0;\"><tr style=3D\"vertical-align: top; padding: 0;\" align=\\r\\n=3D\"left\"> <th style=3D\\'word-wrap: break-word; -webkit-hyphens: auto; -ms-h=\\r\\nyphens: auto; hyphens: auto; border-collapse: collapse !important; color: #=\\r\\n050c26; font-family: Helvetica, \"Helvetica Neue\", Arial, sans-serif; font-w=\\r\\neight: normal; line-height: 1.5; font-size: 16px; margin: 0; padding: 0;\\' a=\\r\\nlign=3D\"left\" valign=3D\"top\"> Talkdoc provides free mental healthcare to pa=\\r\\ntients on Medicaid in over twenty counties in California. </th> <th class=\\r\\n=3D\"expander\" style=3D\\'word-wrap: break-word; -webkit-hyphens: auto; -ms-hy=\\r\\nphens: auto; hyphens: auto; border-collapse: collapse !important; visibilit=\\r\\ny: hidden; width: 0; color: #050c26; font-family: Helvetica, \"Helvetica Neu=\\r\\ne\", Arial, sans-serif; font-weight: normal; line-height: 1.5; font-size: 16=\\r\\npx; margin: 0; padding: 0;\\' align=3D\"left\" valign=3D\"top\"></th> </tr></tabl=\\r\\ne></th> </tr></tbody></table> <table class=3D\"spacer \" style=3D\"border-spac=\\r\\ning: 0; border-collapse: collapse; vertical-align: top; text-align: left; w=\\r\\nidth: 100%; padding: 0;\"><tbody><tr style=3D\"vertical-align: top; padding: =\\r\\n0;\" align=3D\"left\"><td height=3D\"8\" style=3D\\'font-size: 8px; line-height: 8=\\r\\npx; word-wrap: break-word; -webkit-hyphens: auto; -ms-hyphens: auto; hyphen=\\r\\ns: auto; border-collapse: collapse !important; mso-line-height-rule: exactl=\\r\\ny; color: #050c26; font-family: Helvetica, \"Helvetica Neue\", Arial, sans-se=\\r\\nrif; font-weight: normal; -moz-hyphens: auto; margin: 0; padding: 0;\\' align=\\r\\n=3D\"left\" valign=3D\"top\">=C2=A0</td></tr></tbody></table> </th></tr></table=\\r\\n></th> </tr></tbody></table> <table class=3D\"spacer \" style=3D\"border-spaci=\\r\\nng: 0; border-collapse: collapse; vertical-align: top; text-align: left; wi=\\r\\ndth: 100%; padding: 0;\"><tbody><tr style=3D\"vertical-align: top; padding: 0=\\r\\n;\" align=3D\"left\"><td height=3D\"24\" style=3D\\'font-size: 24px; line-height: =\\r\\n24px; word-wrap: break-word; -webkit-hyphens: auto; -ms-hyphens: auto; hyph=\\r\\nens: auto; border-collapse: collapse !important; mso-line-height-rule: exac=\\r\\ntly; color: #050c26; font-family: Helvetica, \"Helvetica Neue\", Arial, sans-=\\r\\nserif; font-weight: normal; -moz-hyphens: auto; margin: 0; padding: 0;\\' ali=\\r\\ngn=3D\"left\" valign=3D\"top\">=C2=A0</td></tr></tbody></table> </td></tr></tbo=\\r\\ndy></table> <table class=3D\"spacer float-center\" align=3D\"center\" style=3D\"=\\r\\nborder-spacing: 0; border-collapse: collapse; vertical-align: top; text-ali=\\r\\ngn: center; width: 100%; float: none; margin: 0 auto; padding: 0;\"><tbody><=\\r\\ntr style=3D\"vertical-align: top; padding: 0;\" align=3D\"left\"><td height=3D\"=\\r\\n40\" style=3D\\'font-size: 40px; line-height: 40px; word-wrap: break-word; -we=\\r\\nbkit-hyphens: auto; -ms-hyphens: auto; hyphens: auto; border-collapse: coll=\\r\\napse !important; mso-line-height-rule: exactly; color: #050c26; font-family=\\r\\n: Helvetica, \"Helvetica Neue\", Arial, sans-serif; font-weight: normal; -moz=\\r\\n-hyphens: auto; margin: 0; padding: 0;\\' align=3D\"left\" valign=3D\"top\">=C2=\\r\\n=A0</td></tr></tbody></table> <table class=3D\"wrapper float-center\" align=\\r\\n=3D\"center\" style=3D\"width: 100%; border-spacing: 0; border-collapse: colla=\\r\\npse; vertical-align: top; text-align: center; float: none; margin: 0 auto; =\\r\\npadding: 0;\"><tr style=3D\"vertical-align: top; padding: 0;\" align=3D\"left\">=\\r\\n<td class=3D\"wrapper-inner\" style=3D\\'word-wrap: break-word; -webkit-hyphens=\\r\\n: auto; -ms-hyphens: auto; hyphens: auto; border-collapse: collapse !import=\\r\\nant; color: #050c26; font-family: Helvetica, \"Helvetica Neue\", Arial, sans-=\\r\\nserif; font-weight: normal; line-height: 1.5; font-size: 16px; -moz-hyphens=\\r\\n: auto; margin: 0; padding: 0;\\' align=3D\"left\" valign=3D\"top\"> <table class=\\r\\n=3D\"container\" align=3D\"center\" style=3D\"border-radius: 8px; border-spacing=\\r\\n: 0; border-collapse: collapse; vertical-align: top; text-align: inherit; w=\\r\\nidth: 600px; margin: 0 auto; padding: 0;\" bgcolor=3D\"#fff\"><tbody><tr style=\\r\\n=3D\"vertical-align: top; padding: 0;\" align=3D\"left\"><td style=3D\\'word-wrap=\\r\\n: break-word; -webkit-hyphens: auto; -ms-hyphens: auto; hyphens: auto; bord=\\r\\ner-collapse: collapse !important; color: #050c26; font-family: Helvetica, \"=\\r\\nHelvetica Neue\", Arial, sans-serif; font-weight: normal; line-height: 1.5; =\\r\\nfont-size: 16px; -moz-hyphens: auto; margin: 0; padding: 0;\\' align=3D\"left\"=\\r\\n valign=3D\"top\"> <table class=3D\"collapse background--light-gray row\" style=\\r\\n=3D\"-webkit-font-smoothing: antialiased; border-spacing: 0; border-collapse=\\r\\n: collapse; vertical-align: top; text-align: left; position: relative; widt=\\r\\nh: 100%; display: table; padding: 0;\" bgcolor=3D\"#f2f4f7\"><tbody><tr style=\\r\\n=3D\"vertical-align: top; padding: 0;\" align=3D\"left\"> <th class=3D\"small-12=\\r\\n large-12 columns first last\" style=3D\\'word-wrap: break-word; -webkit-hyphe=\\r\\nns: auto; -ms-hyphens: auto; hyphens: auto; border-collapse: collapse !impo=\\r\\nrtant; width: 612px; color: #050c26; font-family: Helvetica, \"Helvetica Neu=\\r\\ne\", Arial, sans-serif; font-weight: normal; line-height: 1.5; font-size: 16=\\r\\npx; margin: 0 auto; padding: 0 0 24px;\\' align=3D\"left\" valign=3D\"top\"><tabl=\\r\\ne style=3D\"border-spacing: 0; border-collapse: collapse; vertical-align: to=\\r\\np; text-align: left; width: 100%; padding: 0;\"><tr style=3D\"vertical-align:=\\r\\n top; padding: 0;\" align=3D\"left\"> <th style=3D\\'word-wrap: break-word; -web=\\r\\nkit-hyphens: auto; -ms-hyphens: auto; hyphens: auto; border-collapse: colla=\\r\\npse !important; color: #050c26; font-family: Helvetica, \"Helvetica Neue\", A=\\r\\nrial, sans-serif; font-weight: normal; line-height: 1.5; font-size: 16px; m=\\r\\nargin: 0; padding: 0;\\' align=3D\"left\" valign=3D\"top\"> <p class=3D\"color--sl=\\r\\nate-500 font-size--small\" style=3D\\'font-size: 14px; color: #7b91b1; font-fa=\\r\\nmily: Helvetica, \"Helvetica Neue\", Arial, sans-serif; font-weight: normal; =\\r\\nline-height: 1.5; margin: 0 0 8px; padding: 0;\\' align=3D\"left\"> You\\'re rece=\\r\\niving this notification because you\\'re looking for jobs on <a class=3D\"colo=\\r\\nr--slate-500 white-space--nowrap\" data-skip-click=3D\"true\" href=3D\"http://l=\\r\\ninks.angel.co/u/click=3F_t=3D26b4e8aeb47d4cd3acd5eba415f76f62&_m=3D99364c60=\\r\\n505b48e69450a442befb39fa&_e=3DpqRoGfQK1GNW_Q29y4dUkEgrkHs804IveEBg9nihS5FsT=\\r\\nppalrZ1KTflIimN3xoFNAoyMPmLpPCnl0gnmlAWL6fhsHZSzrKkeyue1Ai0OwFjw9ZhtDDlPX60=\\r\\nKl9i2dR4LtpJn4aIC2fQYETr15uw9cq5YxigSBRe5dEJlSYFsCIC4rjkcoQJ-7qTxBrNOuWtJO3=\\r\\nFxezvkUJwL5lms225zs_5AJZjFiSeDVQOo139O-WYREFTyGYwubABDoJqn142\" style=3D\\'col=\\r\\nor: #7b91b1; white-space: nowrap; text-decoration: underline; font-family: =\\r\\nHelvetica, \"Helvetica Neue\", Arial, sans-serif; font-weight: normal; text-a=\\r\\nlign: left; line-height: 1.5; margin: 0; padding: 0;\\'>AngelList</a> <br> 90=\\r\\n Gold St =C2=B7 San Francisco, CA 94133 </p> <p class=3D\"color--slate-500 f=\\r\\nont-size--small\" style=3D\\'font-size: 14px; color: #7b91b1; font-family: Hel=\\r\\nvetica, \"Helvetica Neue\", Arial, sans-serif; font-weight: normal; line-heig=\\r\\nht: 1.5; margin: 0 0 8px; padding: 0;\\' align=3D\"left\"> Click <a class=3D\"co=\\r\\nlor--slate-500\" data-skip-click=3D\"true\" href=3D\"http://links.angel.co/u/cl=\\r\\nick=3F_t=3D26b4e8aeb47d4cd3acd5eba415f76f62&_m=3D99364c60505b48e69450a442be=\\r\\nfb39fa&_e=3DpqRoGfQK1GNW_Q29y4dUkHhAyYsn2acRFpQShsAvGCPcDW1C7rJmobw-eWSEgOP=\\r\\n0hwCajd1Vt5rnJkhCjZIG7IZufmEKRmOEVOY8q89IF8_3TKyc-rv0U9iFOrMSUxi-rlK_0Cw5e9=\\r\\nIwtWf_k_Khui6pZbUCkbv76JHOHZgM_mOpQPbSWqNenhSn4VWbwraebWx-U4tGzQrD78_2RamOQ=\\r\\nlfvtlwvLYSNVnN0bzUUiUPcINmc5Gn-LJrRhZAi1XAXFcyBH8s1Drd78oQSQxyAHBesLUB3cDRm=\\r\\no9fyWa9PTKYDQFlf9i_OK-49R51QAhUc6TM9FnDY7GbpdgssICwC0WpobV2laaIAcU6Mlj2ncLV=\\r\\nWKRLeK0_aNp6e4DKbC6gqtXRDvaWn3rZUSf56YOB5I17Sm2H5Yijsza8arP821xtfLdVtX-nVlE=\\r\\nZ9xN21tq6e\" style=3D\\'color: #7b91b1; text-decoration: underline; font-famil=\\r\\ny: Helvetica, \"Helvetica Neue\", Arial, sans-serif; font-weight: normal; tex=\\r\\nt-align: left; line-height: 1.5; margin: 0; padding: 0;\\'>here to unsubscrib=\\r\\ne</a> or <a class=3D\"color--slate-500\" data-skip-click=3D\"true\" href=3D\"htt=\\r\\np://links.angel.co/u/click=3F_t=3D26b4e8aeb47d4cd3acd5eba415f76f62&_m=3D993=\\r\\n64c60505b48e69450a442befb39fa&_e=3DpqRoGfQK1GNW_Q29y4dUkNxdfy1aBqU7UpShFDME=\\r\\nqgBG93gKqjuq-HvAeNJ4LzCoFAQum4SDjPGxvTls4fFcP1x5p-cJsgIegP7i3MizCnIhjNoXkQq=\\r\\nFivheFieLu-cZzcaDpkSbLpKL9gSDR5Pcpu9EO-UjQm-1ApeBBSxVekauUtVga8CZznOdwtoEv_=\\r\\n8c8jTIBRIE-tHRA9BGQMVtXzX6Gyh2EokVJy2vu8nVQgv1V6rVR6Spztjykcv4JW8veOs9VpnFh=\\r\\nkvZzl_40aMHhuq4PCWIZCCHn_9cgCNvoOiEOKRv19b6krdfdzEO4Dp9E_77ieNUaRiF0IYLbbeA=\\r\\nTK16Hs6UBCmFlcUN5zZyE9TPCNTHvmQCmTd3yMKDmoiXeI5yJMT_UHViugyehfduZGnCJJtNKdm=\\r\\nNzb9QN66rXEhVyXmVeP-j11-5gXAevuhO\" style=3D\\'color: #7b91b1; text-decoration=\\r\\n: underline; font-family: Helvetica, \"Helvetica Neue\", Arial, sans-serif; f=\\r\\nont-weight: normal; text-align: left; line-height: 1.5; margin: 0; padding:=\\r\\n 0;\\'>manage email preferences</a> </p> </th> <th class=3D\"expander\" style=\\r\\n=3D\\'word-wrap: break-word; -webkit-hyphens: auto; -ms-hyphens: auto; hyphen=\\r\\ns: auto; border-collapse: collapse !important; visibility: hidden; width: 0=\\r\\n; color: #050c26; font-family: Helvetica, \"Helvetica Neue\", Arial, sans-ser=\\r\\nif; font-weight: normal; line-height: 1.5; font-size: 16px; margin: 0; padd=\\r\\ning: 0;\\' align=3D\"left\" valign=3D\"top\"></th> </tr></table></th> </tr></tbod=\\r\\ny></table> </td></tr></tbody></table> </td></tr></table> </center> </td> </=\\r\\ntr> </table> </div></body> </html> </p> <!-- http://links.angel.co/e/encryp=\\r\\ntedUnsubscribe=3F_r=3D26b4e8aeb47d4cd3acd5eba415f76f62&amp;_s=3D99364c60505=\\r\\nb48e69450a442befb39fa&amp;_t=3DjI_hihoyE1oK2lj87vHDkxLdoit7tQ6uGT3G0RlWidjk=\\r\\nOhtp6bUyE91ezhKRCF9-hLJAcHs7ujxORTeMBT-i8uhOELscchsjwJgravGxdsnFRf7TxuKY6_I=\\r\\nhrqOdout4YDxeshr1WN4u-_6TZ0bLJEGfvfMSoht3xNhOBcs38irIPqXw0Sef3ap1UFQISA-R -=\\r\\n->=0D=0A<img border=3D\"0\" width=3D\"1\" height=3D\"1\" alt=3D\"\" src=3D\"http://g=\\r\\no.sparkpostmail2.com/q/MqCDsGtXNWM8cIlXV_gmnw~~/AARTlQA~/RgRiB9VsPlcDc3BjQg=\\r\\npgIWxQJWCG0qf_Uhpub3JtYW4ucmFzbXVzc2VuQGdtYWlsLmNvbVgEAAAAAA~~\">=0D=0A</bod=\\r\\ny> </html>\\r\\n--_----H0YmtfH/r9MfOgSjBlFZAw===_65/FF-42918-C6055206--\\r\\n\\r\\n'),\n",
       " b')']"
      ]
     },
     "metadata": {},
     "execution_count": 52
    }
   ],
   "source": [
    "email_data"
   ]
  },
  {
   "source": [
    "raw_email = email_data[0][1]"
   ],
   "cell_type": "markdown",
   "metadata": {}
  },
  {
   "cell_type": "code",
   "execution_count": 53,
   "metadata": {},
   "outputs": [],
   "source": [
    "raw_email = email_data[0][1]"
   ]
  },
  {
   "cell_type": "code",
   "execution_count": 55,
   "metadata": {},
   "outputs": [],
   "source": [
    "raw_email_string = raw_email.decode('utf-8')"
   ]
  },
  {
   "cell_type": "code",
   "execution_count": 56,
   "metadata": {},
   "outputs": [],
   "source": [
    "import email"
   ]
  },
  {
   "cell_type": "code",
   "execution_count": 57,
   "metadata": {},
   "outputs": [],
   "source": [
    "email_message = email.message_from_string(raw_email_string)"
   ]
  },
  {
   "cell_type": "code",
   "execution_count": 62,
   "metadata": {},
   "outputs": [],
   "source": [
    "for part in email_message.walk():\n",
    "\n",
    "    if part.get_content_type == 'text/html':\n",
    "        body = part.get_payload(decode=True)\n",
    "        print(body)"
   ]
  },
  {
   "cell_type": "code",
   "execution_count": null,
   "metadata": {},
   "outputs": [],
   "source": []
  },
  {
   "cell_type": "code",
   "execution_count": 61,
   "metadata": {},
   "outputs": [],
   "source": [
    "pass"
   ]
  },
  {
   "cell_type": "code",
   "execution_count": null,
   "metadata": {},
   "outputs": [],
   "source": []
  }
 ]
}